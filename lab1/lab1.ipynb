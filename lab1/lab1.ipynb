{
 "cells": [
  {
   "cell_type": "markdown",
   "id": "cd0a106a",
   "metadata": {},
   "source": [
    "<!-- # -*- mode: markdown; coding: utf-8; fill-column: 60; org-indent-mode: t; column-number-mode: t; flyspell-mode: t; ispell-local-dictionary: \"en\"; eval: (visual-on); -*- -->\n",
    "\n",
    "<meta charset=\"utf-8\"/>\n",
    "<meta name=\"viewport\" content=\"width=device-width,initial-scale=1\"/>\n",
    "<link rel=\"stylesheet\" href=\"style.css\">\n",
    "\n",
    "\n",
    "# EDAF75 - lab 1: SQL\n",
    "\n",
    "This lab is meant to be run as a `jupyter` notebook, you could download it [here](lab1.zip) (the zip-file contains the notebook and the database, and a [.html-file](lab1.html) which you can read in case you have problems reading/running jupyter notebooks).\n",
    "\n",
    "To start your notebook, you can use the following commands (after you've downloaded [the zip file](lab1.zip) -- observe that the `$` is the shell prompt, you shouldn't type it):"
   ]
  },
  {
   "cell_type": "markdown",
   "id": "39c61bb7",
   "metadata": {},
   "source": [
    "```sh\n",
    "$ unzip lab1.zip\n",
    "$ jupyter notebook    # or jupyter lab\n",
    "```\n"
   ]
  },
  {
   "cell_type": "markdown",
   "id": "b239c0be",
   "metadata": {},
   "source": [
    "This should start jupyter in a browser tab, and there you can click \"lab1.ipynb\".\n",
    "\n",
    "\n",
    "# Background\n",
    "\n",
    "We have a database to handle the academic achievements of students at LTH -- in it we have four tables:\n",
    "\n",
    "<hr>\n",
    "<table rules=\"all\">\n",
    " <tr>\n",
    "  <th align=\"left\"><code>students:</code></th>\n",
    "  <th></th>\n",
    " </tr>\n",
    " <tr>\n",
    "  <td><code>ssn</code></td>\n",
    "  <td>social security number</td>\n",
    " </tr>\n",
    " <tr>\n",
    "  <td><code>first_name</code></td>\n",
    "  <td>first name (obviously!)</td>\n",
    " </tr>\n",
    " <tr>\n",
    "  <td><code>last_name</code></td>\n",
    "  <td>last name</td>\n",
    " </tr>\n",
    "</table>\n",
    "\n",
    "<hr>\n",
    "<table rules=\"all\">\n",
    " <tr>\n",
    "  <th align=\"left\"><code>departments:</code></th>\n",
    "  <th></th>\n",
    " </tr>\n",
    " <tr>\n",
    "  <td><code>department_code</code></td>\n",
    "  <td>unique code for each department</td>\n",
    " </tr>\n",
    " <tr>\n",
    "  <td><code>department_name</code></td>\n",
    "  <td>the name of the department, in Swedish</td>\n",
    " </tr>\n",
    "</table>\n",
    "\n",
    "<hr>\n",
    "<table rules=\"all\">\n",
    " <tr>\n",
    "  <th align=\"left\"><code>courses:</code></th>\n",
    "  <th></th>\n",
    " </tr>\n",
    " <tr>\n",
    "  <td><code>course_code</code></td>\n",
    "  <td>course code, like <code>EDAF75</code></td>\n",
    " </tr>\n",
    " <tr>\n",
    "  <td><code>course_name</code></td>\n",
    "  <td>the name of the course, in Swedish (like \"Databasteknik\")</td>\n",
    " </tr>\n",
    " <tr>\n",
    "  <td><code>department_code</code></td>\n",
    "  <td>the department giving the course</td>\n",
    " </tr>\n",
    " <tr>\n",
    "  <td><code>level</code></td>\n",
    "  <td>the course level, like \"G1\", \"G2\", or \"A\"</td>\n",
    " </tr>\n",
    " <tr>\n",
    "  <td><code>credits</code></td>\n",
    "  <td>the number of credits for the course, like 7.5</td>\n",
    " </tr>\n",
    "</table>\n",
    "\n",
    "<hr>\n",
    "<table rules=\"all\">\n",
    " <tr>\n",
    "  <th align=\"left\"><code>finished_courses:</code></th>\n",
    "  <th></th>\n",
    " </tr>\n",
    " <tr>\n",
    "  <td><code>ssn</code></td>\n",
    "  <td>the social security number of a student</td>\n",
    " </tr>\n",
    " <tr>\n",
    "  <td><code>course_code</code></td>\n",
    "  <td>the course code for the course the student has taken</td>\n",
    " </tr>\n",
    " <tr>\n",
    "  <td><code>grade</code></td>\n",
    "  <td>the grade for the student passing the course</td>\n",
    " </tr>\n",
    "</table>\n",
    "\n",
    "<hr>\n",
    "\n",
    "<center>\n",
    "  <img src=\"lab1-er.svg\">\n",
    "</center>\n",
    "\n",
    "Some sample data:"
   ]
  },
  {
   "cell_type": "markdown",
   "id": "4509e4a1",
   "metadata": {},
   "source": [
    "```text\n",
    "ssn           first_name   last_name\n",
    "---           ----------   ---------\n",
    "861103–2438   Bo           Ek\n",
    "911212–1746   Eva          Alm\n",
    "950829–1848   Anna         Nyström\n",
    "...           ...          ...\n",
    "\n",
    "department_code  department_name\n",
    "---------------  ----------------------------------------\n",
    "eda              Datavetenskap\n",
    "edi              Informationsteori\n",
    "eem              Elektrisk mätteknik\n",
    "eie              Industriell elektroteknik och automation\n",
    "...              ...\n",
    "\n",
    "course_code  course_name                         department_code  level  credits\n",
    "-----------  ----------------------------------  ---------------  -----  -------\n",
    "ETTN05       Adaptiv signalbehandling            eit              A      7.5\n",
    "FMAN10       Algebraiska strukturer              fma              A      7.5\n",
    "ETIN80       Algoritmer i signalprocessorer...   eit              A      7.5\n",
    "EDAF05       Algoritmer, datastrukturer och...   eda              G2     5.0\n",
    "...          ...                                 ...              ...    ...\n",
    "\n",
    "ssn           course_code   grade\n",
    "---           -----------   -----\n",
    "861103–2438   EDA016        4\n",
    "861103–2438   EDAA01        3\n",
    "911212–1746   EDA016        3\n",
    "...           ...           ...\n",
    "```\n"
   ]
  },
  {
   "cell_type": "markdown",
   "id": "ed7db1e7",
   "metadata": {},
   "source": [
    "The tables have been created with the following SQL\n",
    "statements:"
   ]
  },
  {
   "cell_type": "markdown",
   "id": "e7b9f167",
   "metadata": {},
   "source": [
    "```sql\n",
    "CREATE TABLE students (\n",
    "  ssn          CHAR(11),\n",
    "  first_name   TEXT NOT NULL,\n",
    "  last_name    TEXT NOT NULL,\n",
    "  PRIMARY KEY  (ssn)\n",
    ");\n",
    "\n",
    "CREATE TABLE departments (\n",
    "  department_code    TEXT,\n",
    "  department_name    TEXT,\n",
    "  PRIMARY KEY (department_code)\n",
    ");\n",
    "\n",
    "CREATE TABLE courses (\n",
    "  course_code      CHAR(6),\n",
    "  course_name      TEXT NOT NULL,\n",
    "  department_code  TEXT,\n",
    "  level            CHAR(2),\n",
    "  credits          DOUBLE NOT NULL CHECK (credits >= 0),\n",
    "  PRIMARY KEY      (course_code),\n",
    "  FOREIGN KEY      (department_code) REFERENCES departments(department_code)\n",
    ");\n",
    "\n",
    "CREATE TABLE finished_courses (\n",
    "  ssn           CHAR(11),\n",
    "  course_code   CHAR(6),\n",
    "  grade         INTEGER NOT NULL CHECK (grade >= 3 AND grade <= 5),\n",
    "  PRIMARY KEY   (ssn, course_code),\n",
    "  FOREIGN KEY   (ssn) REFERENCES students(ssn),\n",
    "  FOREIGN KEY   (course_code) REFERENCES courses(course_code)\n",
    ");\n",
    "```\n"
   ]
  },
  {
   "cell_type": "markdown",
   "id": "8d1950c1",
   "metadata": {},
   "source": [
    "All courses offered at the \"Computer Science and Engineering\" program at LTH during the academic year 2013/14 are in the table 'courses`. Also, the database has been filled with made up data. SQL statements like the following have been used to insert the data:"
   ]
  },
  {
   "cell_type": "markdown",
   "id": "431d06c8",
   "metadata": {},
   "source": [
    "```sql\n",
    "INTO   students(ssn, first_name, last_name)\n",
    "VALUES ('950705-2308', 'Anna', 'Johansson'),\n",
    "       ('930702-3582', 'Anna', 'Johansson'),\n",
    "       ('911212-1746', 'Eva', 'Alm'),\n",
    "       ('910707-3787', 'Eva', 'Nilsson'),\n",
    "       ...\n",
    "```\n"
   ]
  },
  {
   "cell_type": "markdown",
   "id": "5bdac1e3",
   "metadata": {},
   "source": [
    "The information about which departments gives which courses is somewhat haphazard (some of the departments in the database no longer exist, and some of them may never have existed).\n",
    "Our database assumes each course is given by a single department, in real life, departments can share courses -- if you want to practice what we're talking about in week 2 and week 3, try to come up with a modification of the database design, which allows departments to share courses (you can ask your TA about it during the lab session).\n",
    "\n",
    "\n",
    "# Assignments\n",
    "\n",
    "To pass this lab, you only need to show your solutions to the problems marked REVIEW below -- that's the only ones we'll be looking at during the lab sessions.\n",
    "You can skip the other problems at your own discretion, but I strongly recommend that you try them out, for practice.\n",
    "\n",
    "As said above, this lab is designed to be run as a jupyter notebook (either using =jupyter lab=, or =jupyter notebook=).\n",
    "If you haven't been able to get =jupyter= up and running on your computer, you can run the sql-commands for the problems below interactively inside =sqlite3=, or as a script file with all your commands, or inside some IDE, like [DB Browser for SQLite](https://sqlitebrowser.org/).\n",
    "\n",
    "If you're running the lab as a notebook (and hopefully you are!), evaluate the following cells before you begin:"
   ]
  },
  {
   "cell_type": "code",
   "execution_count": 1,
   "id": "da948cb4",
   "metadata": {},
   "outputs": [
    {
     "data": {
      "text/html": [
       "<span style=\"None\">Loading configurations from /home/hugo/Documents/skola/edaf75/repo/pyproject.toml.</span>"
      ],
      "text/plain": [
       "Loading configurations from /home/hugo/Documents/skola/edaf75/repo/pyproject.toml."
      ]
     },
     "metadata": {},
     "output_type": "display_data"
    },
    {
     "data": {
      "text/html": [
       "<span style=\"None\">Settings changed:</span>"
      ],
      "text/plain": [
       "Settings changed:"
      ]
     },
     "metadata": {},
     "output_type": "display_data"
    },
    {
     "data": {
      "text/html": [
       "\n",
       "<table>\n",
       "    <thead>\n",
       "        <tr>\n",
       "            <th>Config</th>\n",
       "            <th>value</th>\n",
       "        </tr>\n",
       "    </thead>\n",
       "    <tbody>\n",
       "        <tr>\n",
       "            <td>feedback</td>\n",
       "            <td>True</td>\n",
       "        </tr>\n",
       "        <tr>\n",
       "            <td>autopandas</td>\n",
       "            <td>True</td>\n",
       "        </tr>\n",
       "    </tbody>\n",
       "</table>"
      ],
      "text/plain": [
       "\n",
       "+------------+-------+\n",
       "|   Config   | value |\n",
       "+------------+-------+\n",
       "|  feedback  |  True |\n",
       "| autopandas |  True |\n",
       "+------------+-------+"
      ]
     },
     "metadata": {},
     "output_type": "display_data"
    }
   ],
   "source": [
    "%load_ext sql"
   ]
  },
  {
   "cell_type": "code",
   "execution_count": 2,
   "id": "e1c6891e",
   "metadata": {},
   "outputs": [
    {
     "data": {
      "text/html": [
       "<span style=\"None\">Connecting to &#x27;sqlite:///lab1.sqlite&#x27;</span>"
      ],
      "text/plain": [
       "Connecting to 'sqlite:///lab1.sqlite'"
      ]
     },
     "metadata": {},
     "output_type": "display_data"
    }
   ],
   "source": [
    "%sql sqlite:///lab1.sqlite"
   ]
  },
  {
   "cell_type": "markdown",
   "id": "e29a8639",
   "metadata": {},
   "source": [
    "--------------------------------\n",
    "Jump to [REVIEW problems](#review_problems)\n",
    "--------------------------------\n",
    "\n",
    "The tables `students`, `departments`, `courses` and `finished_courses` are already in your database, you can see some of their contents by running the cells below:"
   ]
  },
  {
   "cell_type": "code",
   "execution_count": 3,
   "id": "8316eb6e",
   "metadata": {},
   "outputs": [
    {
     "data": {
      "text/html": [
       "<span style=\"None\">Running query in &#x27;sqlite:///lab1.sqlite&#x27;</span>"
      ],
      "text/plain": [
       "Running query in 'sqlite:///lab1.sqlite'"
      ]
     },
     "metadata": {},
     "output_type": "display_data"
    },
    {
     "data": {
      "text/html": [
       "<div>\n",
       "<style scoped>\n",
       "    .dataframe tbody tr th:only-of-type {\n",
       "        vertical-align: middle;\n",
       "    }\n",
       "\n",
       "    .dataframe tbody tr th {\n",
       "        vertical-align: top;\n",
       "    }\n",
       "\n",
       "    .dataframe thead th {\n",
       "        text-align: right;\n",
       "    }\n",
       "</style>\n",
       "<table border=\"1\" class=\"dataframe\">\n",
       "  <thead>\n",
       "    <tr style=\"text-align: right;\">\n",
       "      <th></th>\n",
       "      <th>ssn</th>\n",
       "      <th>first_name</th>\n",
       "      <th>last_name</th>\n",
       "    </tr>\n",
       "  </thead>\n",
       "  <tbody>\n",
       "    <tr>\n",
       "      <th>0</th>\n",
       "      <td>950705-2308</td>\n",
       "      <td>Anna</td>\n",
       "      <td>Johansson</td>\n",
       "    </tr>\n",
       "    <tr>\n",
       "      <th>1</th>\n",
       "      <td>930702-3582</td>\n",
       "      <td>Anna</td>\n",
       "      <td>Johansson</td>\n",
       "    </tr>\n",
       "    <tr>\n",
       "      <th>2</th>\n",
       "      <td>911212-1746</td>\n",
       "      <td>Eva</td>\n",
       "      <td>Alm</td>\n",
       "    </tr>\n",
       "    <tr>\n",
       "      <th>3</th>\n",
       "      <td>910707-3787</td>\n",
       "      <td>Eva</td>\n",
       "      <td>Nilsson</td>\n",
       "    </tr>\n",
       "  </tbody>\n",
       "</table>\n",
       "</div>"
      ],
      "text/plain": [
       "           ssn first_name  last_name\n",
       "0  950705-2308       Anna  Johansson\n",
       "1  930702-3582       Anna  Johansson\n",
       "2  911212-1746        Eva        Alm\n",
       "3  910707-3787        Eva    Nilsson"
      ]
     },
     "execution_count": 3,
     "metadata": {},
     "output_type": "execute_result"
    }
   ],
   "source": [
    "%%sql\n",
    "SELECT  *\n",
    "FROM    students\n",
    "LIMIT   4"
   ]
  },
  {
   "cell_type": "code",
   "execution_count": 4,
   "id": "467a14c2",
   "metadata": {},
   "outputs": [
    {
     "data": {
      "text/html": [
       "<span style=\"None\">Running query in &#x27;sqlite:///lab1.sqlite&#x27;</span>"
      ],
      "text/plain": [
       "Running query in 'sqlite:///lab1.sqlite'"
      ]
     },
     "metadata": {},
     "output_type": "display_data"
    },
    {
     "data": {
      "text/html": [
       "<div>\n",
       "<style scoped>\n",
       "    .dataframe tbody tr th:only-of-type {\n",
       "        vertical-align: middle;\n",
       "    }\n",
       "\n",
       "    .dataframe tbody tr th {\n",
       "        vertical-align: top;\n",
       "    }\n",
       "\n",
       "    .dataframe thead th {\n",
       "        text-align: right;\n",
       "    }\n",
       "</style>\n",
       "<table border=\"1\" class=\"dataframe\">\n",
       "  <thead>\n",
       "    <tr style=\"text-align: right;\">\n",
       "      <th></th>\n",
       "      <th>department_code</th>\n",
       "      <th>department_name</th>\n",
       "    </tr>\n",
       "  </thead>\n",
       "  <tbody>\n",
       "    <tr>\n",
       "      <th>0</th>\n",
       "      <td>eda</td>\n",
       "      <td>Datavetenskap</td>\n",
       "    </tr>\n",
       "    <tr>\n",
       "      <th>1</th>\n",
       "      <td>edi</td>\n",
       "      <td>Informationsteori</td>\n",
       "    </tr>\n",
       "    <tr>\n",
       "      <th>2</th>\n",
       "      <td>eem</td>\n",
       "      <td>Elektrisk mätteknik</td>\n",
       "    </tr>\n",
       "    <tr>\n",
       "      <th>3</th>\n",
       "      <td>eie</td>\n",
       "      <td>Industriell elektroteknik och automation</td>\n",
       "    </tr>\n",
       "  </tbody>\n",
       "</table>\n",
       "</div>"
      ],
      "text/plain": [
       "  department_code                           department_name\n",
       "0             eda                             Datavetenskap\n",
       "1             edi                         Informationsteori\n",
       "2             eem                       Elektrisk mätteknik\n",
       "3             eie  Industriell elektroteknik och automation"
      ]
     },
     "execution_count": 4,
     "metadata": {},
     "output_type": "execute_result"
    }
   ],
   "source": [
    "%%sql\n",
    "SELECT  *\n",
    "FROM    departments\n",
    "LIMIT   4"
   ]
  },
  {
   "cell_type": "code",
   "execution_count": 5,
   "id": "55877425",
   "metadata": {},
   "outputs": [
    {
     "data": {
      "text/html": [
       "<span style=\"None\">Running query in &#x27;sqlite:///lab1.sqlite&#x27;</span>"
      ],
      "text/plain": [
       "Running query in 'sqlite:///lab1.sqlite'"
      ]
     },
     "metadata": {},
     "output_type": "display_data"
    },
    {
     "data": {
      "text/html": [
       "<div>\n",
       "<style scoped>\n",
       "    .dataframe tbody tr th:only-of-type {\n",
       "        vertical-align: middle;\n",
       "    }\n",
       "\n",
       "    .dataframe tbody tr th {\n",
       "        vertical-align: top;\n",
       "    }\n",
       "\n",
       "    .dataframe thead th {\n",
       "        text-align: right;\n",
       "    }\n",
       "</style>\n",
       "<table border=\"1\" class=\"dataframe\">\n",
       "  <thead>\n",
       "    <tr style=\"text-align: right;\">\n",
       "      <th></th>\n",
       "      <th>course_code</th>\n",
       "      <th>course_name</th>\n",
       "      <th>department_code</th>\n",
       "      <th>level</th>\n",
       "      <th>credits</th>\n",
       "    </tr>\n",
       "  </thead>\n",
       "  <tbody>\n",
       "    <tr>\n",
       "      <th>0</th>\n",
       "      <td>EDA016</td>\n",
       "      <td>Programmeringsteknik</td>\n",
       "      <td>eda</td>\n",
       "      <td>G1</td>\n",
       "      <td>7.5</td>\n",
       "    </tr>\n",
       "    <tr>\n",
       "      <th>1</th>\n",
       "      <td>EDA031</td>\n",
       "      <td>C++ - programmering</td>\n",
       "      <td>eda</td>\n",
       "      <td>G2</td>\n",
       "      <td>7.5</td>\n",
       "    </tr>\n",
       "    <tr>\n",
       "      <th>2</th>\n",
       "      <td>EDA040</td>\n",
       "      <td>Realtidsprogrammering</td>\n",
       "      <td>eda</td>\n",
       "      <td>G2</td>\n",
       "      <td>6.0</td>\n",
       "    </tr>\n",
       "    <tr>\n",
       "      <th>3</th>\n",
       "      <td>EDA050</td>\n",
       "      <td>Operativsystem</td>\n",
       "      <td>eda</td>\n",
       "      <td>G2</td>\n",
       "      <td>4.5</td>\n",
       "    </tr>\n",
       "  </tbody>\n",
       "</table>\n",
       "</div>"
      ],
      "text/plain": [
       "  course_code            course_name department_code level  credits\n",
       "0      EDA016   Programmeringsteknik             eda    G1      7.5\n",
       "1      EDA031    C++ - programmering             eda    G2      7.5\n",
       "2      EDA040  Realtidsprogrammering             eda    G2      6.0\n",
       "3      EDA050         Operativsystem             eda    G2      4.5"
      ]
     },
     "execution_count": 5,
     "metadata": {},
     "output_type": "execute_result"
    }
   ],
   "source": [
    "%%sql\n",
    "SELECT  *\n",
    "FROM    courses\n",
    "LIMIT   4"
   ]
  },
  {
   "cell_type": "code",
   "execution_count": 6,
   "id": "f119b58e",
   "metadata": {},
   "outputs": [
    {
     "data": {
      "text/html": [
       "<span style=\"None\">Running query in &#x27;sqlite:///lab1.sqlite&#x27;</span>"
      ],
      "text/plain": [
       "Running query in 'sqlite:///lab1.sqlite'"
      ]
     },
     "metadata": {},
     "output_type": "display_data"
    },
    {
     "data": {
      "text/html": [
       "<div>\n",
       "<style scoped>\n",
       "    .dataframe tbody tr th:only-of-type {\n",
       "        vertical-align: middle;\n",
       "    }\n",
       "\n",
       "    .dataframe tbody tr th {\n",
       "        vertical-align: top;\n",
       "    }\n",
       "\n",
       "    .dataframe thead th {\n",
       "        text-align: right;\n",
       "    }\n",
       "</style>\n",
       "<table border=\"1\" class=\"dataframe\">\n",
       "  <thead>\n",
       "    <tr style=\"text-align: right;\">\n",
       "      <th></th>\n",
       "      <th>ssn</th>\n",
       "      <th>course_code</th>\n",
       "      <th>grade</th>\n",
       "    </tr>\n",
       "  </thead>\n",
       "  <tbody>\n",
       "    <tr>\n",
       "      <th>0</th>\n",
       "      <td>950705-2308</td>\n",
       "      <td>EITN35</td>\n",
       "      <td>5</td>\n",
       "    </tr>\n",
       "    <tr>\n",
       "      <th>1</th>\n",
       "      <td>950705-2308</td>\n",
       "      <td>ESS050</td>\n",
       "      <td>3</td>\n",
       "    </tr>\n",
       "    <tr>\n",
       "      <th>2</th>\n",
       "      <td>950705-2308</td>\n",
       "      <td>ETIN70</td>\n",
       "      <td>4</td>\n",
       "    </tr>\n",
       "    <tr>\n",
       "      <th>3</th>\n",
       "      <td>950705-2308</td>\n",
       "      <td>FMA140</td>\n",
       "      <td>4</td>\n",
       "    </tr>\n",
       "  </tbody>\n",
       "</table>\n",
       "</div>"
      ],
      "text/plain": [
       "           ssn course_code  grade\n",
       "0  950705-2308      EITN35      5\n",
       "1  950705-2308      ESS050      3\n",
       "2  950705-2308      ETIN70      4\n",
       "3  950705-2308      FMA140      4"
      ]
     },
     "execution_count": 6,
     "metadata": {},
     "output_type": "execute_result"
    }
   ],
   "source": [
    "%%sql\n",
    "SELECT  *\n",
    "FROM    finished_courses\n",
    "LIMIT   4"
   ]
  },
  {
   "cell_type": "markdown",
   "id": "6748bf6f",
   "metadata": {},
   "source": [
    "If you inadvertently change the contents of the tables, you can always recreate the them with the following command (it must be run at the command line):"
   ]
  },
  {
   "cell_type": "markdown",
   "id": "65ce3832",
   "metadata": {},
   "source": [
    "```sh\n",
    "$ sqlite3 lab1.sqlite < lab1-setup.sql\n",
    "```\n"
   ]
  },
  {
   "cell_type": "markdown",
   "id": "5a6738dd",
   "metadata": {},
   "source": [
    "## Practice problems\n",
    "\n",
    "<a id='problem_1'></a>\n",
    "\n",
    "### Problem 1 (practice)\n",
    "\n",
    "What are the names (first name and last name) of all the students?"
   ]
  },
  {
   "cell_type": "code",
   "execution_count": 7,
   "id": "a0273c54",
   "metadata": {},
   "outputs": [
    {
     "data": {
      "text/html": [
       "<span style=\"None\">Running query in &#x27;sqlite:///lab1.sqlite&#x27;</span>"
      ],
      "text/plain": [
       "Running query in 'sqlite:///lab1.sqlite'"
      ]
     },
     "metadata": {},
     "output_type": "display_data"
    },
    {
     "data": {
      "text/html": [
       "<div>\n",
       "<style scoped>\n",
       "    .dataframe tbody tr th:only-of-type {\n",
       "        vertical-align: middle;\n",
       "    }\n",
       "\n",
       "    .dataframe tbody tr th {\n",
       "        vertical-align: top;\n",
       "    }\n",
       "\n",
       "    .dataframe thead th {\n",
       "        text-align: right;\n",
       "    }\n",
       "</style>\n",
       "<table border=\"1\" class=\"dataframe\">\n",
       "  <thead>\n",
       "    <tr style=\"text-align: right;\">\n",
       "      <th></th>\n",
       "      <th>first_name</th>\n",
       "      <th>last_name</th>\n",
       "    </tr>\n",
       "  </thead>\n",
       "  <tbody>\n",
       "    <tr>\n",
       "      <th>0</th>\n",
       "      <td>Anna</td>\n",
       "      <td>Johansson</td>\n",
       "    </tr>\n",
       "    <tr>\n",
       "      <th>1</th>\n",
       "      <td>Anna</td>\n",
       "      <td>Johansson</td>\n",
       "    </tr>\n",
       "    <tr>\n",
       "      <th>2</th>\n",
       "      <td>Eva</td>\n",
       "      <td>Alm</td>\n",
       "    </tr>\n",
       "    <tr>\n",
       "      <th>3</th>\n",
       "      <td>Eva</td>\n",
       "      <td>Nilsson</td>\n",
       "    </tr>\n",
       "    <tr>\n",
       "      <th>4</th>\n",
       "      <td>Elaine</td>\n",
       "      <td>Robertson</td>\n",
       "    </tr>\n",
       "    <tr>\n",
       "      <th>...</th>\n",
       "      <td>...</td>\n",
       "      <td>...</td>\n",
       "    </tr>\n",
       "    <tr>\n",
       "      <th>67</th>\n",
       "      <td>Daniel</td>\n",
       "      <td>Axelsson</td>\n",
       "    </tr>\n",
       "    <tr>\n",
       "      <th>68</th>\n",
       "      <td>Per-Erik</td>\n",
       "      <td>Pettersson</td>\n",
       "    </tr>\n",
       "    <tr>\n",
       "      <th>69</th>\n",
       "      <td>Roger</td>\n",
       "      <td>Brorsson</td>\n",
       "    </tr>\n",
       "    <tr>\n",
       "      <th>70</th>\n",
       "      <td>Patrik</td>\n",
       "      <td>Ohlsson</td>\n",
       "    </tr>\n",
       "    <tr>\n",
       "      <th>71</th>\n",
       "      <td>Peter</td>\n",
       "      <td>Solberg</td>\n",
       "    </tr>\n",
       "  </tbody>\n",
       "</table>\n",
       "<p>72 rows × 2 columns</p>\n",
       "</div>"
      ],
      "text/plain": [
       "   first_name   last_name\n",
       "0        Anna   Johansson\n",
       "1        Anna   Johansson\n",
       "2         Eva         Alm\n",
       "3         Eva     Nilsson\n",
       "4      Elaine   Robertson\n",
       "..        ...         ...\n",
       "67     Daniel    Axelsson\n",
       "68   Per-Erik  Pettersson\n",
       "69      Roger    Brorsson\n",
       "70     Patrik     Ohlsson\n",
       "71      Peter     Solberg\n",
       "\n",
       "[72 rows x 2 columns]"
      ]
     },
     "execution_count": 7,
     "metadata": {},
     "output_type": "execute_result"
    }
   ],
   "source": [
    "%%sql\n",
    "select   first_name, last_name\n",
    "from     students"
   ]
  },
  {
   "cell_type": "markdown",
   "id": "4b2c64a2",
   "metadata": {},
   "source": [
    "Now sort the names, first by last name and then by first name:"
   ]
  },
  {
   "cell_type": "code",
   "execution_count": 8,
   "id": "a3f23c2b",
   "metadata": {
    "attributes": {
     "classes": [
      "clear"
     ],
     "id": ""
    }
   },
   "outputs": [
    {
     "data": {
      "text/html": [
       "<span style=\"None\">Running query in &#x27;sqlite:///lab1.sqlite&#x27;</span>"
      ],
      "text/plain": [
       "Running query in 'sqlite:///lab1.sqlite'"
      ]
     },
     "metadata": {},
     "output_type": "display_data"
    },
    {
     "data": {
      "text/html": [
       "<div>\n",
       "<style scoped>\n",
       "    .dataframe tbody tr th:only-of-type {\n",
       "        vertical-align: middle;\n",
       "    }\n",
       "\n",
       "    .dataframe tbody tr th {\n",
       "        vertical-align: top;\n",
       "    }\n",
       "\n",
       "    .dataframe thead th {\n",
       "        text-align: right;\n",
       "    }\n",
       "</style>\n",
       "<table border=\"1\" class=\"dataframe\">\n",
       "  <thead>\n",
       "    <tr style=\"text-align: right;\">\n",
       "      <th></th>\n",
       "      <th>last_name</th>\n",
       "      <th>first_name</th>\n",
       "    </tr>\n",
       "  </thead>\n",
       "  <tbody>\n",
       "    <tr>\n",
       "      <th>0</th>\n",
       "      <td>Ahlman</td>\n",
       "      <td>Daniel</td>\n",
       "    </tr>\n",
       "    <tr>\n",
       "      <th>1</th>\n",
       "      <td>Alm</td>\n",
       "      <td>Eva</td>\n",
       "    </tr>\n",
       "    <tr>\n",
       "      <th>2</th>\n",
       "      <td>Alm</td>\n",
       "      <td>Martin</td>\n",
       "    </tr>\n",
       "    <tr>\n",
       "      <th>3</th>\n",
       "      <td>Andersson</td>\n",
       "      <td>Erik</td>\n",
       "    </tr>\n",
       "    <tr>\n",
       "      <th>4</th>\n",
       "      <td>Andersson</td>\n",
       "      <td>Erik</td>\n",
       "    </tr>\n",
       "    <tr>\n",
       "      <th>...</th>\n",
       "      <td>...</td>\n",
       "      <td>...</td>\n",
       "    </tr>\n",
       "    <tr>\n",
       "      <th>67</th>\n",
       "      <td>Troberg</td>\n",
       "      <td>Helena</td>\n",
       "    </tr>\n",
       "    <tr>\n",
       "      <th>68</th>\n",
       "      <td>Wallman</td>\n",
       "      <td>Christian</td>\n",
       "    </tr>\n",
       "    <tr>\n",
       "      <th>69</th>\n",
       "      <td>Weidel</td>\n",
       "      <td>Frida</td>\n",
       "    </tr>\n",
       "    <tr>\n",
       "      <th>70</th>\n",
       "      <td>Wikström</td>\n",
       "      <td>Mats</td>\n",
       "    </tr>\n",
       "    <tr>\n",
       "      <th>71</th>\n",
       "      <td>Östberg</td>\n",
       "      <td>Karin</td>\n",
       "    </tr>\n",
       "  </tbody>\n",
       "</table>\n",
       "<p>72 rows × 2 columns</p>\n",
       "</div>"
      ],
      "text/plain": [
       "    last_name first_name\n",
       "0      Ahlman     Daniel\n",
       "1         Alm        Eva\n",
       "2         Alm     Martin\n",
       "3   Andersson       Erik\n",
       "4   Andersson       Erik\n",
       "..        ...        ...\n",
       "67    Troberg     Helena\n",
       "68    Wallman  Christian\n",
       "69     Weidel      Frida\n",
       "70   Wikström       Mats\n",
       "71    Östberg      Karin\n",
       "\n",
       "[72 rows x 2 columns]"
      ]
     },
     "execution_count": 8,
     "metadata": {},
     "output_type": "execute_result"
    }
   ],
   "source": [
    "%%sql\n",
    "select   last_name, first_name\n",
    "from     students\n",
    "order by last_name, first_name"
   ]
  },
  {
   "cell_type": "markdown",
   "id": "ddca45cd",
   "metadata": {},
   "source": [
    "When you get it to work, experiment by listing only the 10 first students (alphabetically), then try to list only students 11-20, etc.:"
   ]
  },
  {
   "cell_type": "code",
   "execution_count": 9,
   "id": "7aa71669",
   "metadata": {
    "attributes": {
     "classes": [
      "clear"
     ],
     "id": ""
    }
   },
   "outputs": [
    {
     "data": {
      "text/html": [
       "<span style=\"None\">Running query in &#x27;sqlite:///lab1.sqlite&#x27;</span>"
      ],
      "text/plain": [
       "Running query in 'sqlite:///lab1.sqlite'"
      ]
     },
     "metadata": {},
     "output_type": "display_data"
    },
    {
     "data": {
      "text/html": [
       "<div>\n",
       "<style scoped>\n",
       "    .dataframe tbody tr th:only-of-type {\n",
       "        vertical-align: middle;\n",
       "    }\n",
       "\n",
       "    .dataframe tbody tr th {\n",
       "        vertical-align: top;\n",
       "    }\n",
       "\n",
       "    .dataframe thead th {\n",
       "        text-align: right;\n",
       "    }\n",
       "</style>\n",
       "<table border=\"1\" class=\"dataframe\">\n",
       "  <thead>\n",
       "    <tr style=\"text-align: right;\">\n",
       "      <th></th>\n",
       "      <th>last_name</th>\n",
       "      <th>first_name</th>\n",
       "    </tr>\n",
       "  </thead>\n",
       "  <tbody>\n",
       "    <tr>\n",
       "      <th>0</th>\n",
       "      <td>Berg</td>\n",
       "      <td>Lisa</td>\n",
       "    </tr>\n",
       "    <tr>\n",
       "      <th>1</th>\n",
       "      <td>Bergman</td>\n",
       "      <td>Lotta</td>\n",
       "    </tr>\n",
       "    <tr>\n",
       "      <th>2</th>\n",
       "      <td>Brattberg</td>\n",
       "      <td>Johan</td>\n",
       "    </tr>\n",
       "    <tr>\n",
       "      <th>3</th>\n",
       "      <td>Brorsson</td>\n",
       "      <td>Roger</td>\n",
       "    </tr>\n",
       "    <tr>\n",
       "      <th>4</th>\n",
       "      <td>Carlsson</td>\n",
       "      <td>David</td>\n",
       "    </tr>\n",
       "    <tr>\n",
       "      <th>5</th>\n",
       "      <td>Dahl</td>\n",
       "      <td>Susanne</td>\n",
       "    </tr>\n",
       "    <tr>\n",
       "      <th>6</th>\n",
       "      <td>Ek</td>\n",
       "      <td>Bo</td>\n",
       "    </tr>\n",
       "    <tr>\n",
       "      <th>7</th>\n",
       "      <td>Ek</td>\n",
       "      <td>Bo</td>\n",
       "    </tr>\n",
       "    <tr>\n",
       "      <th>8</th>\n",
       "      <td>Ek</td>\n",
       "      <td>Bo</td>\n",
       "    </tr>\n",
       "    <tr>\n",
       "      <th>9</th>\n",
       "      <td>Ek</td>\n",
       "      <td>Karolin</td>\n",
       "    </tr>\n",
       "  </tbody>\n",
       "</table>\n",
       "</div>"
      ],
      "text/plain": [
       "   last_name first_name\n",
       "0       Berg       Lisa\n",
       "1    Bergman      Lotta\n",
       "2  Brattberg      Johan\n",
       "3   Brorsson      Roger\n",
       "4   Carlsson      David\n",
       "5       Dahl    Susanne\n",
       "6         Ek         Bo\n",
       "7         Ek         Bo\n",
       "8         Ek         Bo\n",
       "9         Ek    Karolin"
      ]
     },
     "execution_count": 9,
     "metadata": {},
     "output_type": "execute_result"
    }
   ],
   "source": [
    "%%sql\n",
    "select   last_name, first_name\n",
    "from     students\n",
    "order by last_name, first_name\n",
    "limit 10\n",
    "offset 10"
   ]
  },
  {
   "cell_type": "markdown",
   "id": "68960ac2",
   "metadata": {},
   "source": [
    "<a id='problem_2'></a>\n",
    "\n",
    "### Problem 2 (practice)\n",
    "\n",
    "What are the names of the students who were born in 1985?"
   ]
  },
  {
   "cell_type": "code",
   "execution_count": 10,
   "id": "4ff4d93b",
   "metadata": {
    "attributes": {
     "classes": [
      "clear"
     ],
     "id": ""
    }
   },
   "outputs": [
    {
     "data": {
      "text/html": [
       "<span style=\"None\">Running query in &#x27;sqlite:///lab1.sqlite&#x27;</span>"
      ],
      "text/plain": [
       "Running query in 'sqlite:///lab1.sqlite'"
      ]
     },
     "metadata": {},
     "output_type": "display_data"
    },
    {
     "data": {
      "text/html": [
       "<div>\n",
       "<style scoped>\n",
       "    .dataframe tbody tr th:only-of-type {\n",
       "        vertical-align: middle;\n",
       "    }\n",
       "\n",
       "    .dataframe tbody tr th {\n",
       "        vertical-align: top;\n",
       "    }\n",
       "\n",
       "    .dataframe thead th {\n",
       "        text-align: right;\n",
       "    }\n",
       "</style>\n",
       "<table border=\"1\" class=\"dataframe\">\n",
       "  <thead>\n",
       "    <tr style=\"text-align: right;\">\n",
       "      <th></th>\n",
       "      <th>first_name</th>\n",
       "      <th>last_name</th>\n",
       "      <th>ssn</th>\n",
       "    </tr>\n",
       "  </thead>\n",
       "  <tbody>\n",
       "    <tr>\n",
       "      <th>0</th>\n",
       "      <td>Bo</td>\n",
       "      <td>Ek</td>\n",
       "      <td>850819-2139</td>\n",
       "    </tr>\n",
       "    <tr>\n",
       "      <th>1</th>\n",
       "      <td>Filip</td>\n",
       "      <td>Persson</td>\n",
       "      <td>850517-2597</td>\n",
       "    </tr>\n",
       "    <tr>\n",
       "      <th>2</th>\n",
       "      <td>Henrik</td>\n",
       "      <td>Berg</td>\n",
       "      <td>850208-1213</td>\n",
       "    </tr>\n",
       "    <tr>\n",
       "      <th>3</th>\n",
       "      <td>Ulrika</td>\n",
       "      <td>Jonsson</td>\n",
       "      <td>850706-2762</td>\n",
       "    </tr>\n",
       "  </tbody>\n",
       "</table>\n",
       "</div>"
      ],
      "text/plain": [
       "  first_name last_name          ssn\n",
       "0         Bo        Ek  850819-2139\n",
       "1      Filip   Persson  850517-2597\n",
       "2     Henrik      Berg  850208-1213\n",
       "3     Ulrika   Jonsson  850706-2762"
      ]
     },
     "execution_count": 10,
     "metadata": {},
     "output_type": "execute_result"
    }
   ],
   "source": [
    "%%sql\n",
    "select   first_name, last_name, ssn\n",
    "from     students\n",
    "where    ssn like '85%'\n",
    "order by first_name"
   ]
  },
  {
   "cell_type": "markdown",
   "id": "2e284a82",
   "metadata": {},
   "source": [
    "Hint: the `substr` function can be useful (it also goes by the name `substring`).\n",
    "\n",
    "\n",
    "<a id='problem_3'></a>\n",
    "\n",
    "### Problem 3 (practice)\n",
    "\n",
    "The penultimate digit in the social security number is even for females, and odd for males.\n",
    "List the first names of all female students in our database alphabetically."
   ]
  },
  {
   "cell_type": "code",
   "execution_count": 11,
   "id": "1ae14c3d",
   "metadata": {
    "attributes": {
     "classes": [
      "clear"
     ],
     "id": ""
    }
   },
   "outputs": [
    {
     "data": {
      "text/html": [
       "<span style=\"None\">Running query in &#x27;sqlite:///lab1.sqlite&#x27;</span>"
      ],
      "text/plain": [
       "Running query in 'sqlite:///lab1.sqlite'"
      ]
     },
     "metadata": {},
     "output_type": "display_data"
    },
    {
     "data": {
      "text/html": [
       "<div>\n",
       "<style scoped>\n",
       "    .dataframe tbody tr th:only-of-type {\n",
       "        vertical-align: middle;\n",
       "    }\n",
       "\n",
       "    .dataframe tbody tr th {\n",
       "        vertical-align: top;\n",
       "    }\n",
       "\n",
       "    .dataframe thead th {\n",
       "        text-align: right;\n",
       "    }\n",
       "</style>\n",
       "<table border=\"1\" class=\"dataframe\">\n",
       "  <thead>\n",
       "    <tr style=\"text-align: right;\">\n",
       "      <th></th>\n",
       "      <th>first_name</th>\n",
       "    </tr>\n",
       "  </thead>\n",
       "  <tbody>\n",
       "    <tr>\n",
       "      <th>0</th>\n",
       "      <td>Anna</td>\n",
       "    </tr>\n",
       "    <tr>\n",
       "      <th>1</th>\n",
       "      <td>Anna</td>\n",
       "    </tr>\n",
       "    <tr>\n",
       "      <th>2</th>\n",
       "      <td>Anna</td>\n",
       "    </tr>\n",
       "    <tr>\n",
       "      <th>3</th>\n",
       "      <td>Birgit</td>\n",
       "    </tr>\n",
       "    <tr>\n",
       "      <th>4</th>\n",
       "      <td>Caroline</td>\n",
       "    </tr>\n",
       "    <tr>\n",
       "      <th>5</th>\n",
       "      <td>Elaine</td>\n",
       "    </tr>\n",
       "    <tr>\n",
       "      <th>6</th>\n",
       "      <td>Eva</td>\n",
       "    </tr>\n",
       "    <tr>\n",
       "      <th>7</th>\n",
       "      <td>Eva</td>\n",
       "    </tr>\n",
       "    <tr>\n",
       "      <th>8</th>\n",
       "      <td>Eva</td>\n",
       "    </tr>\n",
       "    <tr>\n",
       "      <th>9</th>\n",
       "      <td>Frida</td>\n",
       "    </tr>\n",
       "    <tr>\n",
       "      <th>10</th>\n",
       "      <td>Helena</td>\n",
       "    </tr>\n",
       "    <tr>\n",
       "      <th>11</th>\n",
       "      <td>Jenny</td>\n",
       "    </tr>\n",
       "    <tr>\n",
       "      <th>12</th>\n",
       "      <td>Karin</td>\n",
       "    </tr>\n",
       "    <tr>\n",
       "      <th>13</th>\n",
       "      <td>Karolin</td>\n",
       "    </tr>\n",
       "    <tr>\n",
       "      <th>14</th>\n",
       "      <td>Lisa</td>\n",
       "    </tr>\n",
       "    <tr>\n",
       "      <th>15</th>\n",
       "      <td>Lotta</td>\n",
       "    </tr>\n",
       "    <tr>\n",
       "      <th>16</th>\n",
       "      <td>Lotta</td>\n",
       "    </tr>\n",
       "    <tr>\n",
       "      <th>17</th>\n",
       "      <td>Maria</td>\n",
       "    </tr>\n",
       "    <tr>\n",
       "      <th>18</th>\n",
       "      <td>Maria</td>\n",
       "    </tr>\n",
       "    <tr>\n",
       "      <th>19</th>\n",
       "      <td>Marie</td>\n",
       "    </tr>\n",
       "    <tr>\n",
       "      <th>20</th>\n",
       "      <td>Märit</td>\n",
       "    </tr>\n",
       "    <tr>\n",
       "      <th>21</th>\n",
       "      <td>Sofia</td>\n",
       "    </tr>\n",
       "    <tr>\n",
       "      <th>22</th>\n",
       "      <td>Susanne</td>\n",
       "    </tr>\n",
       "    <tr>\n",
       "      <th>23</th>\n",
       "      <td>Tina</td>\n",
       "    </tr>\n",
       "    <tr>\n",
       "      <th>24</th>\n",
       "      <td>Ulrika</td>\n",
       "    </tr>\n",
       "    <tr>\n",
       "      <th>25</th>\n",
       "      <td>Ylva</td>\n",
       "    </tr>\n",
       "  </tbody>\n",
       "</table>\n",
       "</div>"
      ],
      "text/plain": [
       "   first_name\n",
       "0        Anna\n",
       "1        Anna\n",
       "2        Anna\n",
       "3      Birgit\n",
       "4    Caroline\n",
       "5      Elaine\n",
       "6         Eva\n",
       "7         Eva\n",
       "8         Eva\n",
       "9       Frida\n",
       "10     Helena\n",
       "11      Jenny\n",
       "12      Karin\n",
       "13    Karolin\n",
       "14       Lisa\n",
       "15      Lotta\n",
       "16      Lotta\n",
       "17      Maria\n",
       "18      Maria\n",
       "19      Marie\n",
       "20      Märit\n",
       "21      Sofia\n",
       "22    Susanne\n",
       "23       Tina\n",
       "24     Ulrika\n",
       "25       Ylva"
      ]
     },
     "execution_count": 11,
     "metadata": {},
     "output_type": "execute_result"
    }
   ],
   "source": [
    "%%sql\n",
    "select   first_name\n",
    "from     students\n",
    "where    substr(ssn, -2, 1) % 2 = 0\n",
    "order by first_name"
   ]
  },
  {
   "cell_type": "markdown",
   "id": "ff238c70",
   "metadata": {},
   "source": [
    "Now try to output each name only once (so, no duplicates)."
   ]
  },
  {
   "cell_type": "code",
   "execution_count": 12,
   "id": "da0f592b",
   "metadata": {
    "attributes": {
     "classes": [
      "clear"
     ],
     "id": ""
    }
   },
   "outputs": [
    {
     "data": {
      "text/html": [
       "<span style=\"None\">Running query in &#x27;sqlite:///lab1.sqlite&#x27;</span>"
      ],
      "text/plain": [
       "Running query in 'sqlite:///lab1.sqlite'"
      ]
     },
     "metadata": {},
     "output_type": "display_data"
    },
    {
     "data": {
      "text/html": [
       "<div>\n",
       "<style scoped>\n",
       "    .dataframe tbody tr th:only-of-type {\n",
       "        vertical-align: middle;\n",
       "    }\n",
       "\n",
       "    .dataframe tbody tr th {\n",
       "        vertical-align: top;\n",
       "    }\n",
       "\n",
       "    .dataframe thead th {\n",
       "        text-align: right;\n",
       "    }\n",
       "</style>\n",
       "<table border=\"1\" class=\"dataframe\">\n",
       "  <thead>\n",
       "    <tr style=\"text-align: right;\">\n",
       "      <th></th>\n",
       "      <th>first_name</th>\n",
       "    </tr>\n",
       "  </thead>\n",
       "  <tbody>\n",
       "    <tr>\n",
       "      <th>0</th>\n",
       "      <td>Anna</td>\n",
       "    </tr>\n",
       "    <tr>\n",
       "      <th>1</th>\n",
       "      <td>Birgit</td>\n",
       "    </tr>\n",
       "    <tr>\n",
       "      <th>2</th>\n",
       "      <td>Caroline</td>\n",
       "    </tr>\n",
       "    <tr>\n",
       "      <th>3</th>\n",
       "      <td>Elaine</td>\n",
       "    </tr>\n",
       "    <tr>\n",
       "      <th>4</th>\n",
       "      <td>Eva</td>\n",
       "    </tr>\n",
       "    <tr>\n",
       "      <th>5</th>\n",
       "      <td>Frida</td>\n",
       "    </tr>\n",
       "    <tr>\n",
       "      <th>6</th>\n",
       "      <td>Helena</td>\n",
       "    </tr>\n",
       "    <tr>\n",
       "      <th>7</th>\n",
       "      <td>Jenny</td>\n",
       "    </tr>\n",
       "    <tr>\n",
       "      <th>8</th>\n",
       "      <td>Karin</td>\n",
       "    </tr>\n",
       "    <tr>\n",
       "      <th>9</th>\n",
       "      <td>Karolin</td>\n",
       "    </tr>\n",
       "    <tr>\n",
       "      <th>10</th>\n",
       "      <td>Lisa</td>\n",
       "    </tr>\n",
       "    <tr>\n",
       "      <th>11</th>\n",
       "      <td>Lotta</td>\n",
       "    </tr>\n",
       "    <tr>\n",
       "      <th>12</th>\n",
       "      <td>Maria</td>\n",
       "    </tr>\n",
       "    <tr>\n",
       "      <th>13</th>\n",
       "      <td>Marie</td>\n",
       "    </tr>\n",
       "    <tr>\n",
       "      <th>14</th>\n",
       "      <td>Märit</td>\n",
       "    </tr>\n",
       "    <tr>\n",
       "      <th>15</th>\n",
       "      <td>Sofia</td>\n",
       "    </tr>\n",
       "    <tr>\n",
       "      <th>16</th>\n",
       "      <td>Susanne</td>\n",
       "    </tr>\n",
       "    <tr>\n",
       "      <th>17</th>\n",
       "      <td>Tina</td>\n",
       "    </tr>\n",
       "    <tr>\n",
       "      <th>18</th>\n",
       "      <td>Ulrika</td>\n",
       "    </tr>\n",
       "    <tr>\n",
       "      <th>19</th>\n",
       "      <td>Ylva</td>\n",
       "    </tr>\n",
       "  </tbody>\n",
       "</table>\n",
       "</div>"
      ],
      "text/plain": [
       "   first_name\n",
       "0        Anna\n",
       "1      Birgit\n",
       "2    Caroline\n",
       "3      Elaine\n",
       "4         Eva\n",
       "5       Frida\n",
       "6      Helena\n",
       "7       Jenny\n",
       "8       Karin\n",
       "9     Karolin\n",
       "10       Lisa\n",
       "11      Lotta\n",
       "12      Maria\n",
       "13      Marie\n",
       "14      Märit\n",
       "15      Sofia\n",
       "16    Susanne\n",
       "17       Tina\n",
       "18     Ulrika\n",
       "19       Ylva"
      ]
     },
     "execution_count": 12,
     "metadata": {},
     "output_type": "execute_result"
    }
   ],
   "source": [
    "%%sql\n",
    "select distinct  first_name\n",
    "from     students\n",
    "where    substr(ssn, -2, 1) % 2 = 0\n",
    "order by first_name"
   ]
  },
  {
   "cell_type": "markdown",
   "id": "cfbce154",
   "metadata": {},
   "source": [
    "<a id='problem_4'></a>\n",
    "\n",
    "### Problem 4 (practice)\n",
    "\n",
    "How many students are registered in the database?"
   ]
  },
  {
   "cell_type": "code",
   "execution_count": 13,
   "id": "940d758c",
   "metadata": {
    "attributes": {
     "classes": [
      "clear"
     ],
     "id": ""
    }
   },
   "outputs": [
    {
     "data": {
      "text/html": [
       "<span style=\"None\">Running query in &#x27;sqlite:///lab1.sqlite&#x27;</span>"
      ],
      "text/plain": [
       "Running query in 'sqlite:///lab1.sqlite'"
      ]
     },
     "metadata": {},
     "output_type": "display_data"
    },
    {
     "data": {
      "text/html": [
       "<div>\n",
       "<style scoped>\n",
       "    .dataframe tbody tr th:only-of-type {\n",
       "        vertical-align: middle;\n",
       "    }\n",
       "\n",
       "    .dataframe tbody tr th {\n",
       "        vertical-align: top;\n",
       "    }\n",
       "\n",
       "    .dataframe thead th {\n",
       "        text-align: right;\n",
       "    }\n",
       "</style>\n",
       "<table border=\"1\" class=\"dataframe\">\n",
       "  <thead>\n",
       "    <tr style=\"text-align: right;\">\n",
       "      <th></th>\n",
       "      <th>count()</th>\n",
       "    </tr>\n",
       "  </thead>\n",
       "  <tbody>\n",
       "    <tr>\n",
       "      <th>0</th>\n",
       "      <td>72</td>\n",
       "    </tr>\n",
       "  </tbody>\n",
       "</table>\n",
       "</div>"
      ],
      "text/plain": [
       "   count()\n",
       "0       72"
      ]
     },
     "execution_count": 13,
     "metadata": {},
     "output_type": "execute_result"
    }
   ],
   "source": [
    "%%sql\n",
    "select count()\n",
    "from students"
   ]
  },
  {
   "cell_type": "markdown",
   "id": "d4343686",
   "metadata": {},
   "source": [
    "How many male students are there?"
   ]
  },
  {
   "cell_type": "code",
   "execution_count": 14,
   "id": "70fda674",
   "metadata": {
    "attributes": {
     "classes": [
      "clear"
     ],
     "id": ""
    }
   },
   "outputs": [
    {
     "data": {
      "text/html": [
       "<span style=\"None\">Running query in &#x27;sqlite:///lab1.sqlite&#x27;</span>"
      ],
      "text/plain": [
       "Running query in 'sqlite:///lab1.sqlite'"
      ]
     },
     "metadata": {},
     "output_type": "display_data"
    },
    {
     "data": {
      "text/html": [
       "<div>\n",
       "<style scoped>\n",
       "    .dataframe tbody tr th:only-of-type {\n",
       "        vertical-align: middle;\n",
       "    }\n",
       "\n",
       "    .dataframe tbody tr th {\n",
       "        vertical-align: top;\n",
       "    }\n",
       "\n",
       "    .dataframe thead th {\n",
       "        text-align: right;\n",
       "    }\n",
       "</style>\n",
       "<table border=\"1\" class=\"dataframe\">\n",
       "  <thead>\n",
       "    <tr style=\"text-align: right;\">\n",
       "      <th></th>\n",
       "      <th>count()</th>\n",
       "    </tr>\n",
       "  </thead>\n",
       "  <tbody>\n",
       "    <tr>\n",
       "      <th>0</th>\n",
       "      <td>46</td>\n",
       "    </tr>\n",
       "  </tbody>\n",
       "</table>\n",
       "</div>"
      ],
      "text/plain": [
       "   count()\n",
       "0       46"
      ]
     },
     "execution_count": 14,
     "metadata": {},
     "output_type": "execute_result"
    }
   ],
   "source": [
    "%%sql\n",
    "select   count()\n",
    "from     students\n",
    "where    substr(ssn, -2, 1) % 2 = 1"
   ]
  },
  {
   "cell_type": "markdown",
   "id": "db257655",
   "metadata": {},
   "source": [
    "Now try to output the number of distinct names in the listing of female students above, using `count`.\n",
    "It turns out that this is a bit tricky, we need to make sure we use the word `DISTINCT` in the right place (look carefully in the [documentation](https://sqlite.org/lang_aggfunc.html))."
   ]
  },
  {
   "cell_type": "code",
   "execution_count": 15,
   "id": "02b4d1ad",
   "metadata": {
    "attributes": {
     "classes": [
      "clear"
     ],
     "id": ""
    }
   },
   "outputs": [
    {
     "data": {
      "text/html": [
       "<span style=\"None\">Running query in &#x27;sqlite:///lab1.sqlite&#x27;</span>"
      ],
      "text/plain": [
       "Running query in 'sqlite:///lab1.sqlite'"
      ]
     },
     "metadata": {},
     "output_type": "display_data"
    },
    {
     "data": {
      "text/html": [
       "<div>\n",
       "<style scoped>\n",
       "    .dataframe tbody tr th:only-of-type {\n",
       "        vertical-align: middle;\n",
       "    }\n",
       "\n",
       "    .dataframe tbody tr th {\n",
       "        vertical-align: top;\n",
       "    }\n",
       "\n",
       "    .dataframe thead th {\n",
       "        text-align: right;\n",
       "    }\n",
       "</style>\n",
       "<table border=\"1\" class=\"dataframe\">\n",
       "  <thead>\n",
       "    <tr style=\"text-align: right;\">\n",
       "      <th></th>\n",
       "      <th>distinct female names count</th>\n",
       "    </tr>\n",
       "  </thead>\n",
       "  <tbody>\n",
       "    <tr>\n",
       "      <th>0</th>\n",
       "      <td>20</td>\n",
       "    </tr>\n",
       "  </tbody>\n",
       "</table>\n",
       "</div>"
      ],
      "text/plain": [
       "   distinct female names count\n",
       "0                           20"
      ]
     },
     "execution_count": 15,
     "metadata": {},
     "output_type": "execute_result"
    }
   ],
   "source": [
    "%%sql\n",
    "select   count(distinct first_name) as 'distinct female names count'\n",
    "from     students\n",
    "where    substr(ssn, -2, 1) % 2 = 0\n",
    "order by first_name"
   ]
  },
  {
   "cell_type": "markdown",
   "id": "9a2ac623",
   "metadata": {},
   "source": [
    "<a id='problem_6'></a>\n",
    "\n",
    "### Problem 5 (practice)\n",
    "\n",
    "In the next few queries, we'll look at the results of the student with the social security number 910101-1234 -- to make things _a lot_ easier, start by creating a `VIEW` with all his results."
   ]
  },
  {
   "cell_type": "code",
   "execution_count": 16,
   "id": "1d80a2f6",
   "metadata": {
    "attributes": {
     "classes": [
      "clear"
     ],
     "id": ""
    }
   },
   "outputs": [
    {
     "data": {
      "text/html": [
       "<span style=\"None\">Running query in &#x27;sqlite:///lab1.sqlite&#x27;</span>"
      ],
      "text/plain": [
       "Running query in 'sqlite:///lab1.sqlite'"
      ]
     },
     "metadata": {},
     "output_type": "display_data"
    },
    {
     "data": {
      "text/html": [
       "<div>\n",
       "<style scoped>\n",
       "    .dataframe tbody tr th:only-of-type {\n",
       "        vertical-align: middle;\n",
       "    }\n",
       "\n",
       "    .dataframe tbody tr th {\n",
       "        vertical-align: top;\n",
       "    }\n",
       "\n",
       "    .dataframe thead th {\n",
       "        text-align: right;\n",
       "    }\n",
       "</style>\n",
       "<table border=\"1\" class=\"dataframe\">\n",
       "  <thead>\n",
       "    <tr style=\"text-align: right;\">\n",
       "      <th></th>\n",
       "    </tr>\n",
       "  </thead>\n",
       "  <tbody>\n",
       "  </tbody>\n",
       "</table>\n",
       "</div>"
      ],
      "text/plain": [
       "Empty DataFrame\n",
       "Columns: []\n",
       "Index: []"
      ]
     },
     "execution_count": 16,
     "metadata": {},
     "output_type": "execute_result"
    }
   ],
   "source": [
    "%%sql\n",
    "DROP VIEW IF EXISTS peter;\n",
    "CREATE VIEW peter AS\n",
    "select   *\n",
    "from     students\n",
    "         join finished_courses using(ssn)\n",
    "         join courses using(course_code)\n",
    "where    ssn = '910101-1234'"
   ]
  },
  {
   "cell_type": "markdown",
   "id": "88a40082",
   "metadata": {},
   "source": [
    "Make sure the view contains all data pertinent to the student in question (it will make the following queries very simple).\n",
    "\n",
    "Which courses (course codes only) have been taken by the student?"
   ]
  },
  {
   "cell_type": "code",
   "execution_count": 17,
   "id": "31198e2a",
   "metadata": {
    "attributes": {
     "classes": [
      "clear"
     ],
     "id": ""
    }
   },
   "outputs": [
    {
     "data": {
      "text/html": [
       "<span style=\"None\">Running query in &#x27;sqlite:///lab1.sqlite&#x27;</span>"
      ],
      "text/plain": [
       "Running query in 'sqlite:///lab1.sqlite'"
      ]
     },
     "metadata": {},
     "output_type": "display_data"
    },
    {
     "data": {
      "text/html": [
       "<div>\n",
       "<style scoped>\n",
       "    .dataframe tbody tr th:only-of-type {\n",
       "        vertical-align: middle;\n",
       "    }\n",
       "\n",
       "    .dataframe tbody tr th {\n",
       "        vertical-align: top;\n",
       "    }\n",
       "\n",
       "    .dataframe thead th {\n",
       "        text-align: right;\n",
       "    }\n",
       "</style>\n",
       "<table border=\"1\" class=\"dataframe\">\n",
       "  <thead>\n",
       "    <tr style=\"text-align: right;\">\n",
       "      <th></th>\n",
       "      <th>course_code</th>\n",
       "    </tr>\n",
       "  </thead>\n",
       "  <tbody>\n",
       "    <tr>\n",
       "      <th>0</th>\n",
       "      <td>EDA070</td>\n",
       "    </tr>\n",
       "    <tr>\n",
       "      <th>1</th>\n",
       "      <td>EDA385</td>\n",
       "    </tr>\n",
       "    <tr>\n",
       "      <th>2</th>\n",
       "      <td>EDAA25</td>\n",
       "    </tr>\n",
       "    <tr>\n",
       "      <th>3</th>\n",
       "      <td>EDAF05</td>\n",
       "    </tr>\n",
       "    <tr>\n",
       "      <th>4</th>\n",
       "      <td>EEMN10</td>\n",
       "    </tr>\n",
       "    <tr>\n",
       "      <th>5</th>\n",
       "      <td>EIT020</td>\n",
       "    </tr>\n",
       "    <tr>\n",
       "      <th>6</th>\n",
       "      <td>EIT060</td>\n",
       "    </tr>\n",
       "    <tr>\n",
       "      <th>7</th>\n",
       "      <td>EITF40</td>\n",
       "    </tr>\n",
       "    <tr>\n",
       "      <th>8</th>\n",
       "      <td>EITN40</td>\n",
       "    </tr>\n",
       "    <tr>\n",
       "      <th>9</th>\n",
       "      <td>EITN50</td>\n",
       "    </tr>\n",
       "    <tr>\n",
       "      <th>10</th>\n",
       "      <td>ESS050</td>\n",
       "    </tr>\n",
       "    <tr>\n",
       "      <th>11</th>\n",
       "      <td>ETIF10</td>\n",
       "    </tr>\n",
       "    <tr>\n",
       "      <th>12</th>\n",
       "      <td>ETIF15</td>\n",
       "    </tr>\n",
       "    <tr>\n",
       "      <th>13</th>\n",
       "      <td>ETIN35</td>\n",
       "    </tr>\n",
       "    <tr>\n",
       "      <th>14</th>\n",
       "      <td>ETS052</td>\n",
       "    </tr>\n",
       "    <tr>\n",
       "      <th>15</th>\n",
       "      <td>ETS075</td>\n",
       "    </tr>\n",
       "    <tr>\n",
       "      <th>16</th>\n",
       "      <td>ETS200</td>\n",
       "    </tr>\n",
       "    <tr>\n",
       "      <th>17</th>\n",
       "      <td>ETSA01</td>\n",
       "    </tr>\n",
       "    <tr>\n",
       "      <th>18</th>\n",
       "      <td>EXTA10</td>\n",
       "    </tr>\n",
       "    <tr>\n",
       "      <th>19</th>\n",
       "      <td>EXTA35</td>\n",
       "    </tr>\n",
       "    <tr>\n",
       "      <th>20</th>\n",
       "      <td>FAFF20</td>\n",
       "    </tr>\n",
       "    <tr>\n",
       "      <th>21</th>\n",
       "      <td>FAFF25</td>\n",
       "    </tr>\n",
       "    <tr>\n",
       "      <th>22</th>\n",
       "      <td>FMA145</td>\n",
       "    </tr>\n",
       "    <tr>\n",
       "      <th>23</th>\n",
       "      <td>FMA420</td>\n",
       "    </tr>\n",
       "    <tr>\n",
       "      <th>24</th>\n",
       "      <td>FMAA01</td>\n",
       "    </tr>\n",
       "    <tr>\n",
       "      <th>25</th>\n",
       "      <td>FMAF05</td>\n",
       "    </tr>\n",
       "    <tr>\n",
       "      <th>26</th>\n",
       "      <td>FMS012</td>\n",
       "    </tr>\n",
       "    <tr>\n",
       "      <th>27</th>\n",
       "      <td>FMSF15</td>\n",
       "    </tr>\n",
       "    <tr>\n",
       "      <th>28</th>\n",
       "      <td>FMSN30</td>\n",
       "    </tr>\n",
       "    <tr>\n",
       "      <th>29</th>\n",
       "      <td>FMSN35</td>\n",
       "    </tr>\n",
       "    <tr>\n",
       "      <th>30</th>\n",
       "      <td>FRTN10</td>\n",
       "    </tr>\n",
       "    <tr>\n",
       "      <th>31</th>\n",
       "      <td>GEMA45</td>\n",
       "    </tr>\n",
       "    <tr>\n",
       "      <th>32</th>\n",
       "      <td>GEMA70</td>\n",
       "    </tr>\n",
       "    <tr>\n",
       "      <th>33</th>\n",
       "      <td>MAMF15</td>\n",
       "    </tr>\n",
       "    <tr>\n",
       "      <th>34</th>\n",
       "      <td>TEK210</td>\n",
       "    </tr>\n",
       "  </tbody>\n",
       "</table>\n",
       "</div>"
      ],
      "text/plain": [
       "   course_code\n",
       "0       EDA070\n",
       "1       EDA385\n",
       "2       EDAA25\n",
       "3       EDAF05\n",
       "4       EEMN10\n",
       "5       EIT020\n",
       "6       EIT060\n",
       "7       EITF40\n",
       "8       EITN40\n",
       "9       EITN50\n",
       "10      ESS050\n",
       "11      ETIF10\n",
       "12      ETIF15\n",
       "13      ETIN35\n",
       "14      ETS052\n",
       "15      ETS075\n",
       "16      ETS200\n",
       "17      ETSA01\n",
       "18      EXTA10\n",
       "19      EXTA35\n",
       "20      FAFF20\n",
       "21      FAFF25\n",
       "22      FMA145\n",
       "23      FMA420\n",
       "24      FMAA01\n",
       "25      FMAF05\n",
       "26      FMS012\n",
       "27      FMSF15\n",
       "28      FMSN30\n",
       "29      FMSN35\n",
       "30      FRTN10\n",
       "31      GEMA45\n",
       "32      GEMA70\n",
       "33      MAMF15\n",
       "34      TEK210"
      ]
     },
     "execution_count": 17,
     "metadata": {},
     "output_type": "execute_result"
    }
   ],
   "source": [
    "%%sql\n",
    "select    course_code\n",
    "from      peter"
   ]
  },
  {
   "cell_type": "markdown",
   "id": "e67c48b2",
   "metadata": {},
   "source": [
    "What are the names of these courses, and how many credits do they give?"
   ]
  },
  {
   "cell_type": "code",
   "execution_count": 18,
   "id": "dc3fc074",
   "metadata": {
    "attributes": {
     "classes": [
      "clear"
     ],
     "id": ""
    }
   },
   "outputs": [
    {
     "data": {
      "text/html": [
       "<span style=\"None\">Running query in &#x27;sqlite:///lab1.sqlite&#x27;</span>"
      ],
      "text/plain": [
       "Running query in 'sqlite:///lab1.sqlite'"
      ]
     },
     "metadata": {},
     "output_type": "display_data"
    },
    {
     "data": {
      "text/html": [
       "<div>\n",
       "<style scoped>\n",
       "    .dataframe tbody tr th:only-of-type {\n",
       "        vertical-align: middle;\n",
       "    }\n",
       "\n",
       "    .dataframe tbody tr th {\n",
       "        vertical-align: top;\n",
       "    }\n",
       "\n",
       "    .dataframe thead th {\n",
       "        text-align: right;\n",
       "    }\n",
       "</style>\n",
       "<table border=\"1\" class=\"dataframe\">\n",
       "  <thead>\n",
       "    <tr style=\"text-align: right;\">\n",
       "      <th></th>\n",
       "      <th>course_name</th>\n",
       "      <th>credits</th>\n",
       "    </tr>\n",
       "  </thead>\n",
       "  <tbody>\n",
       "    <tr>\n",
       "      <th>0</th>\n",
       "      <td>Datorer och datoranvändning</td>\n",
       "      <td>3.0</td>\n",
       "    </tr>\n",
       "    <tr>\n",
       "      <th>1</th>\n",
       "      <td>Konstruktion av inbyggda system, fördjupningskurs</td>\n",
       "      <td>7.5</td>\n",
       "    </tr>\n",
       "    <tr>\n",
       "      <th>2</th>\n",
       "      <td>C-programmering</td>\n",
       "      <td>3.0</td>\n",
       "    </tr>\n",
       "    <tr>\n",
       "      <th>3</th>\n",
       "      <td>Algoritmer, datastrukturer och komplexitet</td>\n",
       "      <td>5.0</td>\n",
       "    </tr>\n",
       "    <tr>\n",
       "      <th>4</th>\n",
       "      <td>Datorbaserade mätsystem</td>\n",
       "      <td>7.5</td>\n",
       "    </tr>\n",
       "    <tr>\n",
       "      <th>5</th>\n",
       "      <td>Digitalteknik</td>\n",
       "      <td>9.0</td>\n",
       "    </tr>\n",
       "    <tr>\n",
       "      <th>6</th>\n",
       "      <td>Datasäkerhet</td>\n",
       "      <td>7.5</td>\n",
       "    </tr>\n",
       "    <tr>\n",
       "      <th>7</th>\n",
       "      <td>Digitala och analoga projekt</td>\n",
       "      <td>7.5</td>\n",
       "    </tr>\n",
       "    <tr>\n",
       "      <th>8</th>\n",
       "      <td>Avancerad webbsäkerhet</td>\n",
       "      <td>4.0</td>\n",
       "    </tr>\n",
       "    <tr>\n",
       "      <th>9</th>\n",
       "      <td>Avancerad datasäkerhet</td>\n",
       "      <td>7.5</td>\n",
       "    </tr>\n",
       "    <tr>\n",
       "      <th>10</th>\n",
       "      <td>Elektromagnetisk fältteori</td>\n",
       "      <td>9.0</td>\n",
       "    </tr>\n",
       "    <tr>\n",
       "      <th>11</th>\n",
       "      <td>Signalbehandling - design och implementering</td>\n",
       "      <td>7.5</td>\n",
       "    </tr>\n",
       "    <tr>\n",
       "      <th>12</th>\n",
       "      <td>Medicinsk signalbehandling</td>\n",
       "      <td>7.5</td>\n",
       "    </tr>\n",
       "    <tr>\n",
       "      <th>13</th>\n",
       "      <td>IC-projekt 1</td>\n",
       "      <td>7.5</td>\n",
       "    </tr>\n",
       "    <tr>\n",
       "      <th>14</th>\n",
       "      <td>Datorkommunikation</td>\n",
       "      <td>4.5</td>\n",
       "    </tr>\n",
       "    <tr>\n",
       "      <th>15</th>\n",
       "      <td>Kösystem</td>\n",
       "      <td>4.5</td>\n",
       "    </tr>\n",
       "    <tr>\n",
       "      <th>16</th>\n",
       "      <td>Programvarutestning</td>\n",
       "      <td>7.5</td>\n",
       "    </tr>\n",
       "    <tr>\n",
       "      <th>17</th>\n",
       "      <td>Ingenjörsprocessen för programvaruutveckling -...</td>\n",
       "      <td>5.0</td>\n",
       "    </tr>\n",
       "    <tr>\n",
       "      <th>18</th>\n",
       "      <td>Introduktion till Kinas samhällsliv, kultur oc...</td>\n",
       "      <td>3.0</td>\n",
       "    </tr>\n",
       "    <tr>\n",
       "      <th>19</th>\n",
       "      <td>Introduktionskurs i kinesiska för civilingenjörer</td>\n",
       "      <td>15.0</td>\n",
       "    </tr>\n",
       "    <tr>\n",
       "      <th>20</th>\n",
       "      <td>Multispektral avbildning</td>\n",
       "      <td>7.5</td>\n",
       "    </tr>\n",
       "    <tr>\n",
       "      <th>21</th>\n",
       "      <td>Fysik</td>\n",
       "      <td>11.0</td>\n",
       "    </tr>\n",
       "    <tr>\n",
       "      <th>22</th>\n",
       "      <td>Olinjära dynamiska system, projektdel</td>\n",
       "      <td>3.0</td>\n",
       "    </tr>\n",
       "    <tr>\n",
       "      <th>23</th>\n",
       "      <td>Linjär algebra</td>\n",
       "      <td>6.0</td>\n",
       "    </tr>\n",
       "    <tr>\n",
       "      <th>24</th>\n",
       "      <td>Endimensionell analys</td>\n",
       "      <td>15.0</td>\n",
       "    </tr>\n",
       "    <tr>\n",
       "      <th>25</th>\n",
       "      <td>Matematik - System och transformer</td>\n",
       "      <td>7.0</td>\n",
       "    </tr>\n",
       "    <tr>\n",
       "      <th>26</th>\n",
       "      <td>Matematisk statistik, allmän kurs</td>\n",
       "      <td>9.0</td>\n",
       "    </tr>\n",
       "    <tr>\n",
       "      <th>27</th>\n",
       "      <td>Markovprocesser</td>\n",
       "      <td>7.5</td>\n",
       "    </tr>\n",
       "    <tr>\n",
       "      <th>28</th>\n",
       "      <td>Linjär och logistisk regression</td>\n",
       "      <td>7.5</td>\n",
       "    </tr>\n",
       "    <tr>\n",
       "      <th>29</th>\n",
       "      <td>Stationär och icke-stationär spektralanalys</td>\n",
       "      <td>7.5</td>\n",
       "    </tr>\n",
       "    <tr>\n",
       "      <th>30</th>\n",
       "      <td>Flervariabel reglering</td>\n",
       "      <td>7.5</td>\n",
       "    </tr>\n",
       "    <tr>\n",
       "      <th>31</th>\n",
       "      <td>Förståelse och lärande</td>\n",
       "      <td>3.0</td>\n",
       "    </tr>\n",
       "    <tr>\n",
       "      <th>32</th>\n",
       "      <td>Japanska för tekniker</td>\n",
       "      <td>15.0</td>\n",
       "    </tr>\n",
       "    <tr>\n",
       "      <th>33</th>\n",
       "      <td>Arbetsorganisation och ledarskap</td>\n",
       "      <td>6.0</td>\n",
       "    </tr>\n",
       "    <tr>\n",
       "      <th>34</th>\n",
       "      <td>Kognition</td>\n",
       "      <td>4.5</td>\n",
       "    </tr>\n",
       "  </tbody>\n",
       "</table>\n",
       "</div>"
      ],
      "text/plain": [
       "                                          course_name  credits\n",
       "0                         Datorer och datoranvändning      3.0\n",
       "1   Konstruktion av inbyggda system, fördjupningskurs      7.5\n",
       "2                                     C-programmering      3.0\n",
       "3          Algoritmer, datastrukturer och komplexitet      5.0\n",
       "4                             Datorbaserade mätsystem      7.5\n",
       "5                                       Digitalteknik      9.0\n",
       "6                                        Datasäkerhet      7.5\n",
       "7                        Digitala och analoga projekt      7.5\n",
       "8                              Avancerad webbsäkerhet      4.0\n",
       "9                              Avancerad datasäkerhet      7.5\n",
       "10                         Elektromagnetisk fältteori      9.0\n",
       "11       Signalbehandling - design och implementering      7.5\n",
       "12                         Medicinsk signalbehandling      7.5\n",
       "13                                       IC-projekt 1      7.5\n",
       "14                                 Datorkommunikation      4.5\n",
       "15                                           Kösystem      4.5\n",
       "16                                Programvarutestning      7.5\n",
       "17  Ingenjörsprocessen för programvaruutveckling -...      5.0\n",
       "18  Introduktion till Kinas samhällsliv, kultur oc...      3.0\n",
       "19  Introduktionskurs i kinesiska för civilingenjörer     15.0\n",
       "20                           Multispektral avbildning      7.5\n",
       "21                                              Fysik     11.0\n",
       "22              Olinjära dynamiska system, projektdel      3.0\n",
       "23                                     Linjär algebra      6.0\n",
       "24                              Endimensionell analys     15.0\n",
       "25                 Matematik - System och transformer      7.0\n",
       "26                  Matematisk statistik, allmän kurs      9.0\n",
       "27                                    Markovprocesser      7.5\n",
       "28                    Linjär och logistisk regression      7.5\n",
       "29        Stationär och icke-stationär spektralanalys      7.5\n",
       "30                             Flervariabel reglering      7.5\n",
       "31                             Förståelse och lärande      3.0\n",
       "32                              Japanska för tekniker     15.0\n",
       "33                   Arbetsorganisation och ledarskap      6.0\n",
       "34                                          Kognition      4.5"
      ]
     },
     "execution_count": 18,
     "metadata": {},
     "output_type": "execute_result"
    }
   ],
   "source": [
    "%%sql\n",
    "select   course_name, credits\n",
    "from     peter"
   ]
  },
  {
   "cell_type": "markdown",
   "id": "90647b7a",
   "metadata": {},
   "source": [
    "How many credits has the student taken?"
   ]
  },
  {
   "cell_type": "code",
   "execution_count": 19,
   "id": "2110c88c",
   "metadata": {
    "attributes": {
     "classes": [
      "clear"
     ],
     "id": ""
    }
   },
   "outputs": [
    {
     "data": {
      "text/html": [
       "<span style=\"None\">Running query in &#x27;sqlite:///lab1.sqlite&#x27;</span>"
      ],
      "text/plain": [
       "Running query in 'sqlite:///lab1.sqlite'"
      ]
     },
     "metadata": {},
     "output_type": "display_data"
    },
    {
     "data": {
      "text/html": [
       "<div>\n",
       "<style scoped>\n",
       "    .dataframe tbody tr th:only-of-type {\n",
       "        vertical-align: middle;\n",
       "    }\n",
       "\n",
       "    .dataframe tbody tr th {\n",
       "        vertical-align: top;\n",
       "    }\n",
       "\n",
       "    .dataframe thead th {\n",
       "        text-align: right;\n",
       "    }\n",
       "</style>\n",
       "<table border=\"1\" class=\"dataframe\">\n",
       "  <thead>\n",
       "    <tr style=\"text-align: right;\">\n",
       "      <th></th>\n",
       "      <th>total credits</th>\n",
       "    </tr>\n",
       "  </thead>\n",
       "  <tbody>\n",
       "    <tr>\n",
       "      <th>0</th>\n",
       "      <td>249.5</td>\n",
       "    </tr>\n",
       "  </tbody>\n",
       "</table>\n",
       "</div>"
      ],
      "text/plain": [
       "   total credits\n",
       "0          249.5"
      ]
     },
     "execution_count": 19,
     "metadata": {},
     "output_type": "execute_result"
    }
   ],
   "source": [
    "%%sql\n",
    "select   sum(credits) as \"total credits\"\n",
    "from     peter"
   ]
  },
  {
   "cell_type": "markdown",
   "id": "de5e43ac",
   "metadata": {},
   "source": [
    "What is the student’s grade average?\n",
    "It turns out that there are actually (at least) two different averages at play here:\n",
    "\n",
    "+ the unweighted average, i.e., just the average of all the students grades (no matter how many credits each course gives), and\n",
    "\n",
    "+ the [weighted average](https://en.wikipedia.org/wiki/Weighted_arithmetic_mean), where we use the credits for a course as a weight.\n",
    "\n",
    "First the unweighted average:"
   ]
  },
  {
   "cell_type": "code",
   "execution_count": 20,
   "id": "23709122",
   "metadata": {
    "attributes": {
     "classes": [
      "clear"
     ],
     "id": ""
    }
   },
   "outputs": [
    {
     "data": {
      "text/html": [
       "<span style=\"None\">Running query in &#x27;sqlite:///lab1.sqlite&#x27;</span>"
      ],
      "text/plain": [
       "Running query in 'sqlite:///lab1.sqlite'"
      ]
     },
     "metadata": {},
     "output_type": "display_data"
    },
    {
     "data": {
      "text/html": [
       "<div>\n",
       "<style scoped>\n",
       "    .dataframe tbody tr th:only-of-type {\n",
       "        vertical-align: middle;\n",
       "    }\n",
       "\n",
       "    .dataframe tbody tr th {\n",
       "        vertical-align: top;\n",
       "    }\n",
       "\n",
       "    .dataframe thead th {\n",
       "        text-align: right;\n",
       "    }\n",
       "</style>\n",
       "<table border=\"1\" class=\"dataframe\">\n",
       "  <thead>\n",
       "    <tr style=\"text-align: right;\">\n",
       "      <th></th>\n",
       "      <th>Average</th>\n",
       "    </tr>\n",
       "  </thead>\n",
       "  <tbody>\n",
       "    <tr>\n",
       "      <th>0</th>\n",
       "      <td>4.028571</td>\n",
       "    </tr>\n",
       "  </tbody>\n",
       "</table>\n",
       "</div>"
      ],
      "text/plain": [
       "    Average\n",
       "0  4.028571"
      ]
     },
     "execution_count": 20,
     "metadata": {},
     "output_type": "execute_result"
    }
   ],
   "source": [
    "%%sql\n",
    "select   avg(grade) as \"Average\"\n",
    "from     peter"
   ]
  },
  {
   "cell_type": "markdown",
   "id": "26a53fdd",
   "metadata": {},
   "source": [
    "And then the weighted average (feel free to ask me about this during QA sessions, if you get stuck):"
   ]
  },
  {
   "cell_type": "code",
   "execution_count": 21,
   "id": "b78da3f2",
   "metadata": {
    "attributes": {
     "classes": [
      "clear"
     ],
     "id": ""
    }
   },
   "outputs": [
    {
     "data": {
      "text/html": [
       "<span style=\"None\">Running query in &#x27;sqlite:///lab1.sqlite&#x27;</span>"
      ],
      "text/plain": [
       "Running query in 'sqlite:///lab1.sqlite'"
      ]
     },
     "metadata": {},
     "output_type": "display_data"
    },
    {
     "data": {
      "text/html": [
       "<div>\n",
       "<style scoped>\n",
       "    .dataframe tbody tr th:only-of-type {\n",
       "        vertical-align: middle;\n",
       "    }\n",
       "\n",
       "    .dataframe tbody tr th {\n",
       "        vertical-align: top;\n",
       "    }\n",
       "\n",
       "    .dataframe thead th {\n",
       "        text-align: right;\n",
       "    }\n",
       "</style>\n",
       "<table border=\"1\" class=\"dataframe\">\n",
       "  <thead>\n",
       "    <tr style=\"text-align: right;\">\n",
       "      <th></th>\n",
       "      <th>Weighted average</th>\n",
       "    </tr>\n",
       "  </thead>\n",
       "  <tbody>\n",
       "    <tr>\n",
       "      <th>0</th>\n",
       "      <td>4.138277</td>\n",
       "    </tr>\n",
       "  </tbody>\n",
       "</table>\n",
       "</div>"
      ],
      "text/plain": [
       "   Weighted average\n",
       "0          4.138277"
      ]
     },
     "execution_count": 21,
     "metadata": {},
     "output_type": "execute_result"
    }
   ],
   "source": [
    "%%sql\n",
    "select   sum(grade*credits) / sum(credits) as \"Weighted average\"\n",
    "from     peter"
   ]
  },
  {
   "cell_type": "markdown",
   "id": "3cbb4c30",
   "metadata": {},
   "source": [
    "Hint: If you've created a proper view above, we'll get a 'table' with one row for each course the student has passed, and each row will contain information about grades and credits for the passed course.\n",
    "If we use arithmetic operations in a select statement, and then use an aggregate function around that operation, we'll apply the aggregate function to each value the operation returns (so, e.g., a `sum` over a product will be a scalar product).\n",
    "\n",
    "Now drop the view:"
   ]
  },
  {
   "cell_type": "code",
   "execution_count": 22,
   "id": "2a91b8c7",
   "metadata": {
    "attributes": {
     "classes": [
      "clear"
     ],
     "id": ""
    }
   },
   "outputs": [
    {
     "data": {
      "text/html": [
       "<span style=\"None\">Running query in &#x27;sqlite:///lab1.sqlite&#x27;</span>"
      ],
      "text/plain": [
       "Running query in 'sqlite:///lab1.sqlite'"
      ]
     },
     "metadata": {},
     "output_type": "display_data"
    },
    {
     "data": {
      "text/html": [
       "<div>\n",
       "<style scoped>\n",
       "    .dataframe tbody tr th:only-of-type {\n",
       "        vertical-align: middle;\n",
       "    }\n",
       "\n",
       "    .dataframe tbody tr th {\n",
       "        vertical-align: top;\n",
       "    }\n",
       "\n",
       "    .dataframe thead th {\n",
       "        text-align: right;\n",
       "    }\n",
       "</style>\n",
       "<table border=\"1\" class=\"dataframe\">\n",
       "  <thead>\n",
       "    <tr style=\"text-align: right;\">\n",
       "      <th></th>\n",
       "    </tr>\n",
       "  </thead>\n",
       "  <tbody>\n",
       "  </tbody>\n",
       "</table>\n",
       "</div>"
      ],
      "text/plain": [
       "Empty DataFrame\n",
       "Columns: []\n",
       "Index: []"
      ]
     },
     "execution_count": 22,
     "metadata": {},
     "output_type": "execute_result"
    }
   ],
   "source": [
    "%%sql\n",
    "drop view if exists peter;"
   ]
  },
  {
   "cell_type": "markdown",
   "id": "ab631f29",
   "metadata": {},
   "source": [
    "<a id='review_problems'></a>\n",
    "\n",
    "## Review problems\n",
    "\n",
    "<a id='problem_6'></a>\n",
    "\n",
    "### Problem 6 -- REVIEW\n",
    "\n",
    "How many courses are there for each level (`G1`, `G2`, and `A`)?"
   ]
  },
  {
   "cell_type": "code",
   "execution_count": 23,
   "id": "38c08c64",
   "metadata": {
    "attributes": {
     "classes": [
      "clear"
     ],
     "id": ""
    }
   },
   "outputs": [
    {
     "data": {
      "text/html": [
       "<span style=\"None\">Running query in &#x27;sqlite:///lab1.sqlite&#x27;</span>"
      ],
      "text/plain": [
       "Running query in 'sqlite:///lab1.sqlite'"
      ]
     },
     "metadata": {},
     "output_type": "display_data"
    },
    {
     "data": {
      "text/html": [
       "<div>\n",
       "<style scoped>\n",
       "    .dataframe tbody tr th:only-of-type {\n",
       "        vertical-align: middle;\n",
       "    }\n",
       "\n",
       "    .dataframe tbody tr th {\n",
       "        vertical-align: top;\n",
       "    }\n",
       "\n",
       "    .dataframe thead th {\n",
       "        text-align: right;\n",
       "    }\n",
       "</style>\n",
       "<table border=\"1\" class=\"dataframe\">\n",
       "  <thead>\n",
       "    <tr style=\"text-align: right;\">\n",
       "      <th></th>\n",
       "      <th>level</th>\n",
       "      <th>count</th>\n",
       "    </tr>\n",
       "  </thead>\n",
       "  <tbody>\n",
       "    <tr>\n",
       "      <th>0</th>\n",
       "      <td>A</td>\n",
       "      <td>87</td>\n",
       "    </tr>\n",
       "    <tr>\n",
       "      <th>1</th>\n",
       "      <td>G1</td>\n",
       "      <td>31</td>\n",
       "    </tr>\n",
       "    <tr>\n",
       "      <th>2</th>\n",
       "      <td>G2</td>\n",
       "      <td>60</td>\n",
       "    </tr>\n",
       "  </tbody>\n",
       "</table>\n",
       "</div>"
      ],
      "text/plain": [
       "  level  count\n",
       "0     A     87\n",
       "1    G1     31\n",
       "2    G2     60"
      ]
     },
     "execution_count": 23,
     "metadata": {},
     "output_type": "execute_result"
    }
   ],
   "source": [
    "%%sql\n",
    "select    level, count() as count\n",
    "from      courses\n",
    "group by  level"
   ]
  },
  {
   "cell_type": "markdown",
   "id": "83dca00c",
   "metadata": {},
   "source": [
    "For each level, how many courses give more than 7.5 HP -- list only those categories with more than 5 such courses?"
   ]
  },
  {
   "cell_type": "code",
   "execution_count": 24,
   "id": "c4ed774a",
   "metadata": {
    "attributes": {
     "classes": [
      "clear"
     ],
     "id": ""
    }
   },
   "outputs": [
    {
     "data": {
      "text/html": [
       "<span style=\"None\">Running query in &#x27;sqlite:///lab1.sqlite&#x27;</span>"
      ],
      "text/plain": [
       "Running query in 'sqlite:///lab1.sqlite'"
      ]
     },
     "metadata": {},
     "output_type": "display_data"
    },
    {
     "data": {
      "text/html": [
       "<div>\n",
       "<style scoped>\n",
       "    .dataframe tbody tr th:only-of-type {\n",
       "        vertical-align: middle;\n",
       "    }\n",
       "\n",
       "    .dataframe tbody tr th {\n",
       "        vertical-align: top;\n",
       "    }\n",
       "\n",
       "    .dataframe thead th {\n",
       "        text-align: right;\n",
       "    }\n",
       "</style>\n",
       "<table border=\"1\" class=\"dataframe\">\n",
       "  <thead>\n",
       "    <tr style=\"text-align: right;\">\n",
       "      <th></th>\n",
       "      <th>level</th>\n",
       "      <th>count</th>\n",
       "    </tr>\n",
       "  </thead>\n",
       "  <tbody>\n",
       "    <tr>\n",
       "      <th>0</th>\n",
       "      <td>G1</td>\n",
       "      <td>6</td>\n",
       "    </tr>\n",
       "    <tr>\n",
       "      <th>1</th>\n",
       "      <td>G2</td>\n",
       "      <td>7</td>\n",
       "    </tr>\n",
       "  </tbody>\n",
       "</table>\n",
       "</div>"
      ],
      "text/plain": [
       "  level  count\n",
       "0    G1      6\n",
       "1    G2      7"
      ]
     },
     "execution_count": 24,
     "metadata": {},
     "output_type": "execute_result"
    }
   ],
   "source": [
    "%%sql\n",
    "select level, count() as count\n",
    "from courses\n",
    "where credits > 7.5\n",
    "group by level\n",
    "having count() > 5"
   ]
  },
  {
   "cell_type": "markdown",
   "id": "094e2768",
   "metadata": {},
   "source": [
    "<a id='problem_7'></a>\n",
    "\n",
    "### Problem 7 - REVIEW\n",
    "\n",
    "For the five departments which offers the most total credits (for its courses in this database) -- output the name of the department, and the total number of offered credits:"
   ]
  },
  {
   "cell_type": "code",
   "execution_count": 25,
   "id": "57395a7f",
   "metadata": {
    "attributes": {
     "classes": [
      "clear"
     ],
     "id": ""
    }
   },
   "outputs": [
    {
     "data": {
      "text/html": [
       "<span style=\"None\">Running query in &#x27;sqlite:///lab1.sqlite&#x27;</span>"
      ],
      "text/plain": [
       "Running query in 'sqlite:///lab1.sqlite'"
      ]
     },
     "metadata": {},
     "output_type": "display_data"
    },
    {
     "data": {
      "text/html": [
       "<div>\n",
       "<style scoped>\n",
       "    .dataframe tbody tr th:only-of-type {\n",
       "        vertical-align: middle;\n",
       "    }\n",
       "\n",
       "    .dataframe tbody tr th {\n",
       "        vertical-align: top;\n",
       "    }\n",
       "\n",
       "    .dataframe thead th {\n",
       "        text-align: right;\n",
       "    }\n",
       "</style>\n",
       "<table border=\"1\" class=\"dataframe\">\n",
       "  <thead>\n",
       "    <tr style=\"text-align: right;\">\n",
       "      <th></th>\n",
       "      <th>department_name</th>\n",
       "      <th>sum(credits)</th>\n",
       "    </tr>\n",
       "  </thead>\n",
       "  <tbody>\n",
       "    <tr>\n",
       "      <th>0</th>\n",
       "      <td>Elektro- och informationsteknik</td>\n",
       "      <td>332.0</td>\n",
       "    </tr>\n",
       "    <tr>\n",
       "      <th>1</th>\n",
       "      <td>Datavetenskap</td>\n",
       "      <td>216.0</td>\n",
       "    </tr>\n",
       "    <tr>\n",
       "      <th>2</th>\n",
       "      <td>Matematik</td>\n",
       "      <td>160.0</td>\n",
       "    </tr>\n",
       "    <tr>\n",
       "      <th>3</th>\n",
       "      <td>Språk och litteraturcentrum</td>\n",
       "      <td>106.5</td>\n",
       "    </tr>\n",
       "    <tr>\n",
       "      <th>4</th>\n",
       "      <td>Matematisk statistik</td>\n",
       "      <td>84.0</td>\n",
       "    </tr>\n",
       "  </tbody>\n",
       "</table>\n",
       "</div>"
      ],
      "text/plain": [
       "                   department_name  sum(credits)\n",
       "0  Elektro- och informationsteknik         332.0\n",
       "1                    Datavetenskap         216.0\n",
       "2                        Matematik         160.0\n",
       "3      Språk och litteraturcentrum         106.5\n",
       "4             Matematisk statistik          84.0"
      ]
     },
     "execution_count": 25,
     "metadata": {},
     "output_type": "execute_result"
    }
   ],
   "source": [
    "%%sql\n",
    "select     department_name, sum(credits)\n",
    "from       departments \n",
    "           join courses using(department_code)\n",
    "group by   department_name\n",
    "order by   sum(credits) desc\n",
    "limit      5"
   ]
  },
  {
   "cell_type": "markdown",
   "id": "4c427d13",
   "metadata": {},
   "source": [
    "<a id='problem_8'></a>\n",
    "\n",
    "### Problem 8 - REVIEW\n",
    "\n",
    "Which students (`ssn` and full name) have taken 0 credits? This problem can be solved in several ways, first do it with an outer join:"
   ]
  },
  {
   "cell_type": "code",
   "execution_count": 26,
   "id": "217ba78b",
   "metadata": {
    "attributes": {
     "classes": [
      "clear"
     ],
     "id": ""
    }
   },
   "outputs": [
    {
     "data": {
      "text/html": [
       "<span style=\"None\">Running query in &#x27;sqlite:///lab1.sqlite&#x27;</span>"
      ],
      "text/plain": [
       "Running query in 'sqlite:///lab1.sqlite'"
      ]
     },
     "metadata": {},
     "output_type": "display_data"
    },
    {
     "data": {
      "text/html": [
       "<div>\n",
       "<style scoped>\n",
       "    .dataframe tbody tr th:only-of-type {\n",
       "        vertical-align: middle;\n",
       "    }\n",
       "\n",
       "    .dataframe tbody tr th {\n",
       "        vertical-align: top;\n",
       "    }\n",
       "\n",
       "    .dataframe thead th {\n",
       "        text-align: right;\n",
       "    }\n",
       "</style>\n",
       "<table border=\"1\" class=\"dataframe\">\n",
       "  <thead>\n",
       "    <tr style=\"text-align: right;\">\n",
       "      <th></th>\n",
       "      <th>ssn</th>\n",
       "      <th>first_name</th>\n",
       "      <th>last_name</th>\n",
       "    </tr>\n",
       "  </thead>\n",
       "  <tbody>\n",
       "    <tr>\n",
       "      <th>0</th>\n",
       "      <td>850517-2597</td>\n",
       "      <td>Filip</td>\n",
       "      <td>Persson</td>\n",
       "    </tr>\n",
       "    <tr>\n",
       "      <th>1</th>\n",
       "      <td>870909-3367</td>\n",
       "      <td>Caroline</td>\n",
       "      <td>Olsson</td>\n",
       "    </tr>\n",
       "    <tr>\n",
       "      <th>2</th>\n",
       "      <td>880206-1915</td>\n",
       "      <td>Joakim</td>\n",
       "      <td>Hall</td>\n",
       "    </tr>\n",
       "    <tr>\n",
       "      <th>3</th>\n",
       "      <td>891007-3091</td>\n",
       "      <td>Johan</td>\n",
       "      <td>Lind</td>\n",
       "    </tr>\n",
       "    <tr>\n",
       "      <th>4</th>\n",
       "      <td>891220-1393</td>\n",
       "      <td>Erik</td>\n",
       "      <td>Andersson</td>\n",
       "    </tr>\n",
       "    <tr>\n",
       "      <th>5</th>\n",
       "      <td>900129-3374</td>\n",
       "      <td>Henrik</td>\n",
       "      <td>Gustavsson</td>\n",
       "    </tr>\n",
       "    <tr>\n",
       "      <th>6</th>\n",
       "      <td>900313-2257</td>\n",
       "      <td>Erik</td>\n",
       "      <td>Andersson</td>\n",
       "    </tr>\n",
       "    <tr>\n",
       "      <th>7</th>\n",
       "      <td>911015-3758</td>\n",
       "      <td>Jonathan</td>\n",
       "      <td>Jönsson</td>\n",
       "    </tr>\n",
       "    <tr>\n",
       "      <th>8</th>\n",
       "      <td>931225-3158</td>\n",
       "      <td>Bo</td>\n",
       "      <td>Ek</td>\n",
       "    </tr>\n",
       "    <tr>\n",
       "      <th>9</th>\n",
       "      <td>950125-1153</td>\n",
       "      <td>Magnus</td>\n",
       "      <td>Hultgren</td>\n",
       "    </tr>\n",
       "    <tr>\n",
       "      <th>10</th>\n",
       "      <td>950829-1848</td>\n",
       "      <td>Anna</td>\n",
       "      <td>Nyström</td>\n",
       "    </tr>\n",
       "  </tbody>\n",
       "</table>\n",
       "</div>"
      ],
      "text/plain": [
       "            ssn first_name   last_name\n",
       "0   850517-2597      Filip     Persson\n",
       "1   870909-3367   Caroline      Olsson\n",
       "2   880206-1915     Joakim        Hall\n",
       "3   891007-3091      Johan        Lind\n",
       "4   891220-1393       Erik   Andersson\n",
       "5   900129-3374     Henrik  Gustavsson\n",
       "6   900313-2257       Erik   Andersson\n",
       "7   911015-3758   Jonathan     Jönsson\n",
       "8   931225-3158         Bo          Ek\n",
       "9   950125-1153     Magnus    Hultgren\n",
       "10  950829-1848       Anna     Nyström"
      ]
     },
     "execution_count": 26,
     "metadata": {},
     "output_type": "execute_result"
    }
   ],
   "source": [
    "%%sql\n",
    "select      ssn, first_name, last_name\n",
    "from        students\n",
    "            left outer join finished_courses using(ssn)\n",
    "where       grade is NULL\n",
    "order by    ssn"
   ]
  },
  {
   "cell_type": "markdown",
   "id": "e97cb4e5",
   "metadata": {},
   "source": [
    "Now do the same thing using a subquery:"
   ]
  },
  {
   "cell_type": "code",
   "execution_count": 27,
   "id": "c0555200",
   "metadata": {
    "attributes": {
     "classes": [
      "clear"
     ],
     "id": ""
    }
   },
   "outputs": [
    {
     "data": {
      "text/html": [
       "<span style=\"None\">Running query in &#x27;sqlite:///lab1.sqlite&#x27;</span>"
      ],
      "text/plain": [
       "Running query in 'sqlite:///lab1.sqlite'"
      ]
     },
     "metadata": {},
     "output_type": "display_data"
    },
    {
     "data": {
      "text/html": [
       "<div>\n",
       "<style scoped>\n",
       "    .dataframe tbody tr th:only-of-type {\n",
       "        vertical-align: middle;\n",
       "    }\n",
       "\n",
       "    .dataframe tbody tr th {\n",
       "        vertical-align: top;\n",
       "    }\n",
       "\n",
       "    .dataframe thead th {\n",
       "        text-align: right;\n",
       "    }\n",
       "</style>\n",
       "<table border=\"1\" class=\"dataframe\">\n",
       "  <thead>\n",
       "    <tr style=\"text-align: right;\">\n",
       "      <th></th>\n",
       "      <th>ssn</th>\n",
       "      <th>first_name</th>\n",
       "      <th>last_name</th>\n",
       "    </tr>\n",
       "  </thead>\n",
       "  <tbody>\n",
       "    <tr>\n",
       "      <th>0</th>\n",
       "      <td>850517-2597</td>\n",
       "      <td>Filip</td>\n",
       "      <td>Persson</td>\n",
       "    </tr>\n",
       "    <tr>\n",
       "      <th>1</th>\n",
       "      <td>870909-3367</td>\n",
       "      <td>Caroline</td>\n",
       "      <td>Olsson</td>\n",
       "    </tr>\n",
       "    <tr>\n",
       "      <th>2</th>\n",
       "      <td>880206-1915</td>\n",
       "      <td>Joakim</td>\n",
       "      <td>Hall</td>\n",
       "    </tr>\n",
       "    <tr>\n",
       "      <th>3</th>\n",
       "      <td>891007-3091</td>\n",
       "      <td>Johan</td>\n",
       "      <td>Lind</td>\n",
       "    </tr>\n",
       "    <tr>\n",
       "      <th>4</th>\n",
       "      <td>891220-1393</td>\n",
       "      <td>Erik</td>\n",
       "      <td>Andersson</td>\n",
       "    </tr>\n",
       "    <tr>\n",
       "      <th>5</th>\n",
       "      <td>900129-3374</td>\n",
       "      <td>Henrik</td>\n",
       "      <td>Gustavsson</td>\n",
       "    </tr>\n",
       "    <tr>\n",
       "      <th>6</th>\n",
       "      <td>900313-2257</td>\n",
       "      <td>Erik</td>\n",
       "      <td>Andersson</td>\n",
       "    </tr>\n",
       "    <tr>\n",
       "      <th>7</th>\n",
       "      <td>911015-3758</td>\n",
       "      <td>Jonathan</td>\n",
       "      <td>Jönsson</td>\n",
       "    </tr>\n",
       "    <tr>\n",
       "      <th>8</th>\n",
       "      <td>931225-3158</td>\n",
       "      <td>Bo</td>\n",
       "      <td>Ek</td>\n",
       "    </tr>\n",
       "    <tr>\n",
       "      <th>9</th>\n",
       "      <td>950125-1153</td>\n",
       "      <td>Magnus</td>\n",
       "      <td>Hultgren</td>\n",
       "    </tr>\n",
       "    <tr>\n",
       "      <th>10</th>\n",
       "      <td>950829-1848</td>\n",
       "      <td>Anna</td>\n",
       "      <td>Nyström</td>\n",
       "    </tr>\n",
       "  </tbody>\n",
       "</table>\n",
       "</div>"
      ],
      "text/plain": [
       "            ssn first_name   last_name\n",
       "0   850517-2597      Filip     Persson\n",
       "1   870909-3367   Caroline      Olsson\n",
       "2   880206-1915     Joakim        Hall\n",
       "3   891007-3091      Johan        Lind\n",
       "4   891220-1393       Erik   Andersson\n",
       "5   900129-3374     Henrik  Gustavsson\n",
       "6   900313-2257       Erik   Andersson\n",
       "7   911015-3758   Jonathan     Jönsson\n",
       "8   931225-3158         Bo          Ek\n",
       "9   950125-1153     Magnus    Hultgren\n",
       "10  950829-1848       Anna     Nyström"
      ]
     },
     "execution_count": 27,
     "metadata": {},
     "output_type": "execute_result"
    }
   ],
   "source": [
    "%%sql\n",
    "with zero_credits(ssn) as (\n",
    "    select  ssn\n",
    "    from    students\n",
    "    \n",
    "    except\n",
    "    \n",
    "    select  ssn\n",
    "    from    finished_courses\n",
    ")\n",
    "select    ssn, first_name, last_name\n",
    "from      students\n",
    "where     ssn in zero_credits"
   ]
  },
  {
   "cell_type": "markdown",
   "id": "9c360c18",
   "metadata": {},
   "source": [
    "<a id='problem_9'></a>\n",
    "\n",
    "### Problem 9 - REVIEW\n",
    "\n",
    "List the names and average grades of the 10 students with the highest grade average? You can use the unweighted average."
   ]
  },
  {
   "cell_type": "code",
   "execution_count": 28,
   "id": "7f4b80fc",
   "metadata": {
    "attributes": {
     "classes": [
      "clear"
     ],
     "id": ""
    }
   },
   "outputs": [
    {
     "data": {
      "text/html": [
       "<span style=\"None\">Running query in &#x27;sqlite:///lab1.sqlite&#x27;</span>"
      ],
      "text/plain": [
       "Running query in 'sqlite:///lab1.sqlite'"
      ]
     },
     "metadata": {},
     "output_type": "display_data"
    },
    {
     "data": {
      "text/html": [
       "<div>\n",
       "<style scoped>\n",
       "    .dataframe tbody tr th:only-of-type {\n",
       "        vertical-align: middle;\n",
       "    }\n",
       "\n",
       "    .dataframe tbody tr th {\n",
       "        vertical-align: top;\n",
       "    }\n",
       "\n",
       "    .dataframe thead th {\n",
       "        text-align: right;\n",
       "    }\n",
       "</style>\n",
       "<table border=\"1\" class=\"dataframe\">\n",
       "  <thead>\n",
       "    <tr style=\"text-align: right;\">\n",
       "      <th></th>\n",
       "      <th>first_name</th>\n",
       "      <th>last_name</th>\n",
       "      <th>avg(grade)</th>\n",
       "    </tr>\n",
       "  </thead>\n",
       "  <tbody>\n",
       "    <tr>\n",
       "      <th>0</th>\n",
       "      <td>Bo</td>\n",
       "      <td>Ek</td>\n",
       "      <td>4.350000</td>\n",
       "    </tr>\n",
       "    <tr>\n",
       "      <th>1</th>\n",
       "      <td>Helena</td>\n",
       "      <td>Troberg</td>\n",
       "      <td>4.307692</td>\n",
       "    </tr>\n",
       "    <tr>\n",
       "      <th>2</th>\n",
       "      <td>Elaine</td>\n",
       "      <td>Robertson</td>\n",
       "      <td>4.235294</td>\n",
       "    </tr>\n",
       "    <tr>\n",
       "      <th>3</th>\n",
       "      <td>Anna</td>\n",
       "      <td>Johansson</td>\n",
       "      <td>4.230769</td>\n",
       "    </tr>\n",
       "    <tr>\n",
       "      <th>4</th>\n",
       "      <td>Ylva</td>\n",
       "      <td>Jacobsson</td>\n",
       "      <td>4.218750</td>\n",
       "    </tr>\n",
       "    <tr>\n",
       "      <th>5</th>\n",
       "      <td>Anna</td>\n",
       "      <td>Johansson</td>\n",
       "      <td>4.200000</td>\n",
       "    </tr>\n",
       "    <tr>\n",
       "      <th>6</th>\n",
       "      <td>Mikael</td>\n",
       "      <td>Nilsson</td>\n",
       "      <td>4.173913</td>\n",
       "    </tr>\n",
       "    <tr>\n",
       "      <th>7</th>\n",
       "      <td>Jakob</td>\n",
       "      <td>Malmberg</td>\n",
       "      <td>4.166667</td>\n",
       "    </tr>\n",
       "    <tr>\n",
       "      <th>8</th>\n",
       "      <td>Maria</td>\n",
       "      <td>Andersson</td>\n",
       "      <td>4.157895</td>\n",
       "    </tr>\n",
       "    <tr>\n",
       "      <th>9</th>\n",
       "      <td>Per-Erik</td>\n",
       "      <td>Pettersson</td>\n",
       "      <td>4.153846</td>\n",
       "    </tr>\n",
       "  </tbody>\n",
       "</table>\n",
       "</div>"
      ],
      "text/plain": [
       "  first_name   last_name  avg(grade)\n",
       "0         Bo          Ek    4.350000\n",
       "1     Helena     Troberg    4.307692\n",
       "2     Elaine   Robertson    4.235294\n",
       "3       Anna   Johansson    4.230769\n",
       "4       Ylva   Jacobsson    4.218750\n",
       "5       Anna   Johansson    4.200000\n",
       "6     Mikael     Nilsson    4.173913\n",
       "7      Jakob    Malmberg    4.166667\n",
       "8      Maria   Andersson    4.157895\n",
       "9   Per-Erik  Pettersson    4.153846"
      ]
     },
     "execution_count": 28,
     "metadata": {},
     "output_type": "execute_result"
    }
   ],
   "source": [
    "%%sql\n",
    "select   first_name, last_name, avg(grade)\n",
    "from     students\n",
    "         join finished_courses using(ssn)\n",
    "group by ssn\n",
    "order by avg(grade) desc\n",
    "limit    10"
   ]
  },
  {
   "cell_type": "markdown",
   "id": "efec1c89",
   "metadata": {},
   "source": [
    "<a id='problem_10'></a>\n",
    "\n",
    "### Problem 10 - REVIEW\n",
    "\n",
    "List the social security number and total number of credits for all students -- order by total credits, descending. Students with no credits should be included in the listing, with 0 credits (not `NULL`).\n",
    "\n",
    "Use an outer `JOIN` to solve the problem -- you might want to use the function `coalesce(v1, v2, ...)`; it returns the first value which is not `NULL`, so `coalesce(avg(grade), 0)` would give 0 if the were no grades (i.e., if `grade` were `NULL`), you can also try the `ifnull` function."
   ]
  },
  {
   "cell_type": "code",
   "execution_count": 29,
   "id": "e6cc9167",
   "metadata": {
    "attributes": {
     "classes": [
      "clear"
     ],
     "id": ""
    }
   },
   "outputs": [
    {
     "data": {
      "text/html": [
       "<span style=\"None\">Running query in &#x27;sqlite:///lab1.sqlite&#x27;</span>"
      ],
      "text/plain": [
       "Running query in 'sqlite:///lab1.sqlite'"
      ]
     },
     "metadata": {},
     "output_type": "display_data"
    },
    {
     "data": {
      "text/html": [
       "<div>\n",
       "<style scoped>\n",
       "    .dataframe tbody tr th:only-of-type {\n",
       "        vertical-align: middle;\n",
       "    }\n",
       "\n",
       "    .dataframe tbody tr th {\n",
       "        vertical-align: top;\n",
       "    }\n",
       "\n",
       "    .dataframe thead th {\n",
       "        text-align: right;\n",
       "    }\n",
       "</style>\n",
       "<table border=\"1\" class=\"dataframe\">\n",
       "  <thead>\n",
       "    <tr style=\"text-align: right;\">\n",
       "      <th></th>\n",
       "      <th>ssn</th>\n",
       "      <th>credits</th>\n",
       "    </tr>\n",
       "  </thead>\n",
       "  <tbody>\n",
       "    <tr>\n",
       "      <th>0</th>\n",
       "      <td>951004-2346</td>\n",
       "      <td>350.0</td>\n",
       "    </tr>\n",
       "    <tr>\n",
       "      <th>1</th>\n",
       "      <td>880620-2564</td>\n",
       "      <td>348.5</td>\n",
       "    </tr>\n",
       "    <tr>\n",
       "      <th>2</th>\n",
       "      <td>910915-2068</td>\n",
       "      <td>338.0</td>\n",
       "    </tr>\n",
       "    <tr>\n",
       "      <th>3</th>\n",
       "      <td>920623-3258</td>\n",
       "      <td>334.0</td>\n",
       "    </tr>\n",
       "    <tr>\n",
       "      <th>4</th>\n",
       "      <td>921222-2113</td>\n",
       "      <td>332.0</td>\n",
       "    </tr>\n",
       "    <tr>\n",
       "      <th>...</th>\n",
       "      <td>...</td>\n",
       "      <td>...</td>\n",
       "    </tr>\n",
       "    <tr>\n",
       "      <th>67</th>\n",
       "      <td>900313-2257</td>\n",
       "      <td>0.0</td>\n",
       "    </tr>\n",
       "    <tr>\n",
       "      <th>68</th>\n",
       "      <td>911015-3758</td>\n",
       "      <td>0.0</td>\n",
       "    </tr>\n",
       "    <tr>\n",
       "      <th>69</th>\n",
       "      <td>931225-3158</td>\n",
       "      <td>0.0</td>\n",
       "    </tr>\n",
       "    <tr>\n",
       "      <th>70</th>\n",
       "      <td>950125-1153</td>\n",
       "      <td>0.0</td>\n",
       "    </tr>\n",
       "    <tr>\n",
       "      <th>71</th>\n",
       "      <td>950829-1848</td>\n",
       "      <td>0.0</td>\n",
       "    </tr>\n",
       "  </tbody>\n",
       "</table>\n",
       "<p>72 rows × 2 columns</p>\n",
       "</div>"
      ],
      "text/plain": [
       "            ssn  credits\n",
       "0   951004-2346    350.0\n",
       "1   880620-2564    348.5\n",
       "2   910915-2068    338.0\n",
       "3   920623-3258    334.0\n",
       "4   921222-2113    332.0\n",
       "..          ...      ...\n",
       "67  900313-2257      0.0\n",
       "68  911015-3758      0.0\n",
       "69  931225-3158      0.0\n",
       "70  950125-1153      0.0\n",
       "71  950829-1848      0.0\n",
       "\n",
       "[72 rows x 2 columns]"
      ]
     },
     "execution_count": 29,
     "metadata": {},
     "output_type": "execute_result"
    }
   ],
   "source": [
    "%%sql\n",
    "select   ssn, coalesce(sum(credits), 0) as credits\n",
    "from     students\n",
    "         left outer join finished_courses using(ssn)\n",
    "         left outer join courses using(course_code)\n",
    "group by ssn\n",
    "order by sum(credits) desc"
   ]
  },
  {
   "cell_type": "markdown",
   "id": "64926d6c",
   "metadata": {},
   "source": [
    "<a id='problem_11'></a>\n",
    "\n",
    "### Problem 11 - REVIEW\n",
    "\n",
    "Do all students have unique names (first name _and_ last name)? If not, show the full name and social security number for all students who have a namesake.\n",
    "\n",
    "As usual there are several ways of solving this, solve it using a `WITH`-statement where you create a 'table' with all duplicate names, and then:\n",
    "\n",
    "Use a `JOIN`:"
   ]
  },
  {
   "cell_type": "code",
   "execution_count": 30,
   "id": "d8f3ac9e",
   "metadata": {
    "attributes": {
     "classes": [
      "clear"
     ],
     "id": ""
    }
   },
   "outputs": [
    {
     "data": {
      "text/html": [
       "<span style=\"None\">Running query in &#x27;sqlite:///lab1.sqlite&#x27;</span>"
      ],
      "text/plain": [
       "Running query in 'sqlite:///lab1.sqlite'"
      ]
     },
     "metadata": {},
     "output_type": "display_data"
    },
    {
     "data": {
      "text/html": [
       "<div>\n",
       "<style scoped>\n",
       "    .dataframe tbody tr th:only-of-type {\n",
       "        vertical-align: middle;\n",
       "    }\n",
       "\n",
       "    .dataframe tbody tr th {\n",
       "        vertical-align: top;\n",
       "    }\n",
       "\n",
       "    .dataframe thead th {\n",
       "        text-align: right;\n",
       "    }\n",
       "</style>\n",
       "<table border=\"1\" class=\"dataframe\">\n",
       "  <thead>\n",
       "    <tr style=\"text-align: right;\">\n",
       "      <th></th>\n",
       "      <th>ssn</th>\n",
       "      <th>first_name</th>\n",
       "      <th>last_name</th>\n",
       "    </tr>\n",
       "  </thead>\n",
       "  <tbody>\n",
       "    <tr>\n",
       "      <th>0</th>\n",
       "      <td>950705-2308</td>\n",
       "      <td>Anna</td>\n",
       "      <td>Johansson</td>\n",
       "    </tr>\n",
       "    <tr>\n",
       "      <th>1</th>\n",
       "      <td>930702-3582</td>\n",
       "      <td>Anna</td>\n",
       "      <td>Johansson</td>\n",
       "    </tr>\n",
       "    <tr>\n",
       "      <th>2</th>\n",
       "      <td>861103-2438</td>\n",
       "      <td>Bo</td>\n",
       "      <td>Ek</td>\n",
       "    </tr>\n",
       "    <tr>\n",
       "      <th>3</th>\n",
       "      <td>931225-3158</td>\n",
       "      <td>Bo</td>\n",
       "      <td>Ek</td>\n",
       "    </tr>\n",
       "    <tr>\n",
       "      <th>4</th>\n",
       "      <td>850819-2139</td>\n",
       "      <td>Bo</td>\n",
       "      <td>Ek</td>\n",
       "    </tr>\n",
       "    <tr>\n",
       "      <th>5</th>\n",
       "      <td>891220-1393</td>\n",
       "      <td>Erik</td>\n",
       "      <td>Andersson</td>\n",
       "    </tr>\n",
       "    <tr>\n",
       "      <th>6</th>\n",
       "      <td>900313-2257</td>\n",
       "      <td>Erik</td>\n",
       "      <td>Andersson</td>\n",
       "    </tr>\n",
       "  </tbody>\n",
       "</table>\n",
       "</div>"
      ],
      "text/plain": [
       "           ssn first_name  last_name\n",
       "0  950705-2308       Anna  Johansson\n",
       "1  930702-3582       Anna  Johansson\n",
       "2  861103-2438         Bo         Ek\n",
       "3  931225-3158         Bo         Ek\n",
       "4  850819-2139         Bo         Ek\n",
       "5  891220-1393       Erik  Andersson\n",
       "6  900313-2257       Erik  Andersson"
      ]
     },
     "execution_count": 30,
     "metadata": {},
     "output_type": "execute_result"
    }
   ],
   "source": [
    "%%sql\n",
    "with name_duplicates(first_name, last_name) as (\n",
    "    select   first_name, last_name\n",
    "    from     students\n",
    "    group by first_name, last_name\n",
    "    having   count() > 1\n",
    ")\n",
    "select   ssn, first_name, last_name\n",
    "from     name_duplicates\n",
    "         join students using(first_name, last_name)"
   ]
  },
  {
   "cell_type": "markdown",
   "id": "ba205c70",
   "metadata": {},
   "source": [
    "Use a subquery:"
   ]
  },
  {
   "cell_type": "code",
   "execution_count": 31,
   "id": "9b2f8441",
   "metadata": {
    "attributes": {
     "classes": [
      "clear"
     ],
     "id": ""
    }
   },
   "outputs": [
    {
     "data": {
      "text/html": [
       "<span style=\"None\">Running query in &#x27;sqlite:///lab1.sqlite&#x27;</span>"
      ],
      "text/plain": [
       "Running query in 'sqlite:///lab1.sqlite'"
      ]
     },
     "metadata": {},
     "output_type": "display_data"
    },
    {
     "data": {
      "text/html": [
       "<div>\n",
       "<style scoped>\n",
       "    .dataframe tbody tr th:only-of-type {\n",
       "        vertical-align: middle;\n",
       "    }\n",
       "\n",
       "    .dataframe tbody tr th {\n",
       "        vertical-align: top;\n",
       "    }\n",
       "\n",
       "    .dataframe thead th {\n",
       "        text-align: right;\n",
       "    }\n",
       "</style>\n",
       "<table border=\"1\" class=\"dataframe\">\n",
       "  <thead>\n",
       "    <tr style=\"text-align: right;\">\n",
       "      <th></th>\n",
       "      <th>ssn</th>\n",
       "      <th>first_name</th>\n",
       "      <th>last_name</th>\n",
       "    </tr>\n",
       "  </thead>\n",
       "  <tbody>\n",
       "    <tr>\n",
       "      <th>0</th>\n",
       "      <td>950705-2308</td>\n",
       "      <td>Anna</td>\n",
       "      <td>Johansson</td>\n",
       "    </tr>\n",
       "    <tr>\n",
       "      <th>1</th>\n",
       "      <td>930702-3582</td>\n",
       "      <td>Anna</td>\n",
       "      <td>Johansson</td>\n",
       "    </tr>\n",
       "    <tr>\n",
       "      <th>2</th>\n",
       "      <td>861103-2438</td>\n",
       "      <td>Bo</td>\n",
       "      <td>Ek</td>\n",
       "    </tr>\n",
       "    <tr>\n",
       "      <th>3</th>\n",
       "      <td>931225-3158</td>\n",
       "      <td>Bo</td>\n",
       "      <td>Ek</td>\n",
       "    </tr>\n",
       "    <tr>\n",
       "      <th>4</th>\n",
       "      <td>850819-2139</td>\n",
       "      <td>Bo</td>\n",
       "      <td>Ek</td>\n",
       "    </tr>\n",
       "    <tr>\n",
       "      <th>5</th>\n",
       "      <td>891220-1393</td>\n",
       "      <td>Erik</td>\n",
       "      <td>Andersson</td>\n",
       "    </tr>\n",
       "    <tr>\n",
       "      <th>6</th>\n",
       "      <td>900313-2257</td>\n",
       "      <td>Erik</td>\n",
       "      <td>Andersson</td>\n",
       "    </tr>\n",
       "  </tbody>\n",
       "</table>\n",
       "</div>"
      ],
      "text/plain": [
       "           ssn first_name  last_name\n",
       "0  950705-2308       Anna  Johansson\n",
       "1  930702-3582       Anna  Johansson\n",
       "2  861103-2438         Bo         Ek\n",
       "3  931225-3158         Bo         Ek\n",
       "4  850819-2139         Bo         Ek\n",
       "5  891220-1393       Erik  Andersson\n",
       "6  900313-2257       Erik  Andersson"
      ]
     },
     "execution_count": 31,
     "metadata": {},
     "output_type": "execute_result"
    }
   ],
   "source": [
    "%%sql\n",
    "with name_duplicates(first_name, last_name) as (\n",
    "    select   first_name, last_name\n",
    "    from     students\n",
    "    group by first_name, last_name\n",
    "    having   count() > 1\n",
    ")\n",
    "select   ssn, first_name, last_name\n",
    "from     students\n",
    "where    (first_name, last_name) in name_duplicates"
   ]
  },
  {
   "cell_type": "code",
   "execution_count": null,
   "id": "d24a9e85-af25-4785-a398-38ef5a9d639a",
   "metadata": {},
   "outputs": [],
   "source": []
  }
 ],
 "metadata": {
  "kernelspec": {
   "display_name": "Python 3 (ipykernel)",
   "language": "python",
   "name": "python3"
  },
  "language_info": {
   "codemirror_mode": {
    "name": "ipython",
    "version": 3
   },
   "file_extension": ".py",
   "mimetype": "text/x-python",
   "name": "python",
   "nbconvert_exporter": "python",
   "pygments_lexer": "ipython3",
   "version": "3.11.6"
  }
 },
 "nbformat": 4,
 "nbformat_minor": 5
}
