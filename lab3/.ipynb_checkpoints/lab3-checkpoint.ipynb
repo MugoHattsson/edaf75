{
 "cells": [
  {
   "cell_type": "code",
   "execution_count": 1,
   "id": "5de82b04-a212-4953-b4f1-8fe9b6ad6adb",
   "metadata": {},
   "outputs": [
    {
     "name": "stdout",
     "output_type": "stream",
     "text": [
      "There's a new jupysql version available (0.10.10), you're running 0.10.8. To upgrade: pip install jupysql --upgrade\n",
      "Deploy AI and data apps for free on Ploomber Cloud! Learn more: https://docs.cloud.ploomber.io/en/latest/quickstart/signup.html\n"
     ]
    },
    {
     "data": {
      "text/html": [
       "<span style=\"None\">Loading configurations from /home/hugo/Documents/skola/edaf75/repo/pyproject.toml.</span>"
      ],
      "text/plain": [
       "Loading configurations from /home/hugo/Documents/skola/edaf75/repo/pyproject.toml."
      ]
     },
     "metadata": {},
     "output_type": "display_data"
    },
    {
     "data": {
      "text/html": [
       "<span style=\"None\">Settings changed:</span>"
      ],
      "text/plain": [
       "Settings changed:"
      ]
     },
     "metadata": {},
     "output_type": "display_data"
    },
    {
     "data": {
      "text/html": [
       "\n",
       "<table>\n",
       "    <thead>\n",
       "        <tr>\n",
       "            <th>Config</th>\n",
       "            <th>value</th>\n",
       "        </tr>\n",
       "    </thead>\n",
       "    <tbody>\n",
       "        <tr>\n",
       "            <td>feedback</td>\n",
       "            <td>True</td>\n",
       "        </tr>\n",
       "        <tr>\n",
       "            <td>autopandas</td>\n",
       "            <td>True</td>\n",
       "        </tr>\n",
       "    </tbody>\n",
       "</table>"
      ],
      "text/plain": [
       "\n",
       "+------------+-------+\n",
       "|   Config   | value |\n",
       "+------------+-------+\n",
       "|  feedback  |  True |\n",
       "| autopandas |  True |\n",
       "+------------+-------+"
      ]
     },
     "metadata": {},
     "output_type": "display_data"
    }
   ],
   "source": [
    "%load_ext sql"
   ]
  },
  {
   "cell_type": "code",
   "execution_count": 2,
   "id": "35dd91df-a8e7-4e96-a03b-f36dc0e25ee2",
   "metadata": {},
   "outputs": [
    {
     "data": {
      "text/html": [
       "<span style=\"None\">Connecting to &#x27;sqlite:///movies.sqlite&#x27;</span>"
      ],
      "text/plain": [
       "Connecting to 'sqlite:///movies.sqlite'"
      ]
     },
     "metadata": {},
     "output_type": "display_data"
    }
   ],
   "source": [
    "%sql sqlite:///movies.sqlite"
   ]
  },
  {
   "cell_type": "code",
   "execution_count": 21,
   "id": "1eaff8b7-5dc2-4e98-9024-d9eff4dc5708",
   "metadata": {},
   "outputs": [
    {
     "data": {
      "text/html": [
       "<span style=\"None\">Running query in &#x27;sqlite:///movies.sqlite&#x27;</span>"
      ],
      "text/plain": [
       "Running query in 'sqlite:///movies.sqlite'"
      ]
     },
     "metadata": {},
     "output_type": "display_data"
    },
    {
     "name": "stderr",
     "output_type": "stream",
     "text": [
      "RuntimeError: If using snippets, you may pass the --with argument explicitly.\n",
      "For more details please refer: https://jupysql.ploomber.io/en/latest/compose.html#with-argument\n",
      "\n",
      "\n",
      "Original error message from DB driver:\n",
      "(sqlite3.OperationalError) near \"drop\": syntax error\n",
      "[SQL: CREATE TABLE tickets (\n",
      "    ticket_id       TEXT DEFAULT (lower(hex(randomblob(16)))),\n",
      "    user_name       TEXT,\n",
      "    performance_id  TEXT,\n",
      "    PRIMARY KEY     (ticket_id),\n",
      "    FOREIGN KEY     (user_name) REFERENCES customers(user_name),\n",
      "    FOREIGN KEY     (performance_id) REFERENCES performances(performance_id)\n",
      "\n",
      "    drop trigger if exists ticket_limit;\n",
      "    create trigger ticket_limit\n",
      "        before insert on tickets\n",
      "        when\n",
      "            (with taken_seats(performance_id, taken) as (\n",
      "                select performance_id, count() as taken\n",
      "                from performances\n",
      "                        join theaters using(theater_name)\n",
      "                        join tickets using(performance_id)\n",
      "                group by performance_id\n",
      "            )\n",
      "            select (capacity - coalesce(taken, 0))>0 as remaining_seats\n",
      "            from performances\n",
      "                    join theaters using(theater_name)\n",
      "                    join movies using(imdb)\n",
      "                    left outer join taken_seats using(performance_id)) <= 0\n",
      "        begin\n",
      "            select raise (rollback, \"No tickets left\");\n",
      "        end;\n",
      ");]\n",
      "(Background on this error at: https://sqlalche.me/e/20/e3q8)\n",
      "\n",
      "If you need help solving this issue, send us a message: https://ploomber.io/community\n"
     ]
    }
   ],
   "source": [
    "%%sql\n",
    "PRAGMA foreign_keys=OFF;\n",
    "\n",
    "DROP TABLE IF EXISTS theaters;\n",
    "DROP TABLE IF EXISTS customers;\n",
    "DROP TABLE IF EXISTS movies;\n",
    "DROP TABLE IF EXISTS performances;\n",
    "DROP TABLE IF EXISTS tickets;\n",
    "\n",
    "PRAGMA foreign_keys=ON;\n",
    "\n",
    "-- Create the tables.\n",
    "CREATE TABLE theaters (\n",
    "    theater_name    TEXT,\n",
    "    capacity        INT,\n",
    "    PRIMARY KEY     (theater_name)\n",
    ");\n",
    "\n",
    "CREATE TABLE customers (\n",
    "    user_name       TEXT,\n",
    "    full_name       TEXT,\n",
    "    password        TEXT,\n",
    "    PRIMARY KEY     (user_name)\n",
    ");\n",
    "\n",
    "CREATE TABLE movies (\n",
    "    imdb            TEXT,\n",
    "    title           TEXT,\n",
    "    year            INT,\n",
    "    PRIMARY KEY     (imdb)\n",
    ");\n",
    "\n",
    "CREATE TABLE performances (\n",
    "    performance_id  TEXT DEFAULT (lower(hex(randomblob(16)))),\n",
    "    start_time      TIME,\n",
    "    date            DATE,\n",
    "    theater_name    TEXT,\n",
    "    imdb            TEXT,\n",
    "    PRIMARY KEY     (performance_id),\n",
    "    FOREIGN KEY     (theater_name) REFERENCES theaters(theater_name),\n",
    "    FOREIGN KEY     (imdb) REFERENCES movies(imdb)          \n",
    ");\n",
    "\n",
    "CREATE TABLE tickets (\n",
    "    ticket_id       TEXT DEFAULT (lower(hex(randomblob(16)))),\n",
    "    user_name       TEXT,\n",
    "    performance_id  TEXT,\n",
    "    PRIMARY KEY     (ticket_id),\n",
    "    FOREIGN KEY     (user_name) REFERENCES customers(user_name),\n",
    "    FOREIGN KEY     (performance_id) REFERENCES performances(performance_id),\n",
    "\n",
    "    drop trigger if exists ticket_limit;\n",
    "    create trigger ticket_limit\n",
    "        before insert on tickets\n",
    "        when\n",
    "            (with taken_seats(performance_id, taken) as (\n",
    "                select performance_id, count() as taken\n",
    "                from performances\n",
    "                        join theaters using(theater_name)\n",
    "                        join tickets using(performance_id)\n",
    "                group by performance_id\n",
    "            )\n",
    "            select (capacity - coalesce(taken, 0))>0 as remaining_seats\n",
    "            from performances\n",
    "                    join theaters using(theater_name)\n",
    "                    join movies using(imdb)\n",
    "                    left outer join taken_seats using(performance_id)) <= 0\n",
    "        begin\n",
    "            select raise (rollback, \"No tickets left\");\n",
    "        end;\n",
    ");\n",
    "\n",
    "-- Insert data into the tables.\n",
    "INSERT\n",
    "INTO    theaters(theater_name, capacity)\n",
    "VALUES  ('Kino', 10),\n",
    "        ('Regal', 16),\n",
    "        ('Skandia', 100);\n",
    "\n",
    "insert\n",
    "into    movies(imdb, title, year)\n",
    "values  ('abc', 'Forrest Gump', 1993);\n",
    "\n",
    "insert\n",
    "into    performances(start_time, date, theater_name, imdb)\n",
    "values  ('19:00', '2024-02-14', 'Kino', 'abc');\n",
    "\n",
    "insert\n",
    "into    customers(user_name, full_name, password)\n",
    "values  ('bob', 'Bob', 'bob');"
   ]
  },
  {
   "cell_type": "code",
   "execution_count": 11,
   "id": "92d7f9e0-15a6-4f8f-812b-b214e70833df",
   "metadata": {},
   "outputs": [
    {
     "data": {
      "text/html": [
       "<span style=\"None\">Running query in &#x27;sqlite:///movies.sqlite&#x27;</span>"
      ],
      "text/plain": [
       "Running query in 'sqlite:///movies.sqlite'"
      ]
     },
     "metadata": {},
     "output_type": "display_data"
    },
    {
     "data": {
      "text/html": [
       "<div>\n",
       "<style scoped>\n",
       "    .dataframe tbody tr th:only-of-type {\n",
       "        vertical-align: middle;\n",
       "    }\n",
       "\n",
       "    .dataframe tbody tr th {\n",
       "        vertical-align: top;\n",
       "    }\n",
       "\n",
       "    .dataframe thead th {\n",
       "        text-align: right;\n",
       "    }\n",
       "</style>\n",
       "<table border=\"1\" class=\"dataframe\">\n",
       "  <thead>\n",
       "    <tr style=\"text-align: right;\">\n",
       "      <th></th>\n",
       "      <th>performance_id</th>\n",
       "      <th>start_time</th>\n",
       "      <th>date</th>\n",
       "      <th>theater_name</th>\n",
       "      <th>imdb</th>\n",
       "    </tr>\n",
       "  </thead>\n",
       "  <tbody>\n",
       "    <tr>\n",
       "      <th>0</th>\n",
       "      <td>616ae5b633a95f9526875462f7754bf2</td>\n",
       "      <td>19:00</td>\n",
       "      <td>2024-02-14</td>\n",
       "      <td>Kino</td>\n",
       "      <td>abc</td>\n",
       "    </tr>\n",
       "  </tbody>\n",
       "</table>\n",
       "</div>"
      ],
      "text/plain": [
       "                     performance_id start_time        date theater_name imdb\n",
       "0  616ae5b633a95f9526875462f7754bf2      19:00  2024-02-14         Kino  abc"
      ]
     },
     "execution_count": 11,
     "metadata": {},
     "output_type": "execute_result"
    }
   ],
   "source": [
    "%%sql\n",
    "select *\n",
    "from performances"
   ]
  },
  {
   "cell_type": "code",
   "execution_count": 12,
   "id": "ed91c727-aa44-41ce-9eb2-af508eea5da2",
   "metadata": {},
   "outputs": [
    {
     "data": {
      "text/html": [
       "<span style=\"None\">Running query in &#x27;sqlite:///movies.sqlite&#x27;</span>"
      ],
      "text/plain": [
       "Running query in 'sqlite:///movies.sqlite'"
      ]
     },
     "metadata": {},
     "output_type": "display_data"
    },
    {
     "data": {
      "text/html": [
       "<div>\n",
       "<style scoped>\n",
       "    .dataframe tbody tr th:only-of-type {\n",
       "        vertical-align: middle;\n",
       "    }\n",
       "\n",
       "    .dataframe tbody tr th {\n",
       "        vertical-align: top;\n",
       "    }\n",
       "\n",
       "    .dataframe thead th {\n",
       "        text-align: right;\n",
       "    }\n",
       "</style>\n",
       "<table border=\"1\" class=\"dataframe\">\n",
       "  <thead>\n",
       "    <tr style=\"text-align: right;\">\n",
       "      <th></th>\n",
       "      <th>ticket_id</th>\n",
       "    </tr>\n",
       "  </thead>\n",
       "  <tbody>\n",
       "    <tr>\n",
       "      <th>0</th>\n",
       "      <td>5f389622a33aefbf3f6f380bdca50ade</td>\n",
       "    </tr>\n",
       "  </tbody>\n",
       "</table>\n",
       "</div>"
      ],
      "text/plain": [
       "                          ticket_id\n",
       "0  5f389622a33aefbf3f6f380bdca50ade"
      ]
     },
     "execution_count": 12,
     "metadata": {},
     "output_type": "execute_result"
    }
   ],
   "source": [
    "%%sql\n",
    "insert\n",
    "into   tickets(user_name, performance_id)\n",
    "values ('bob', '616ae5b633a95f9526875462f7754bf2')\n",
    "returning ticket_id"
   ]
  },
  {
   "cell_type": "code",
   "execution_count": 13,
   "id": "e5d4fac9-c0ea-42a4-920a-a61fb0ddf9b4",
   "metadata": {},
   "outputs": [
    {
     "data": {
      "text/html": [
       "<span style=\"None\">Running query in &#x27;sqlite:///movies.sqlite&#x27;</span>"
      ],
      "text/plain": [
       "Running query in 'sqlite:///movies.sqlite'"
      ]
     },
     "metadata": {},
     "output_type": "display_data"
    },
    {
     "data": {
      "text/html": [
       "<div>\n",
       "<style scoped>\n",
       "    .dataframe tbody tr th:only-of-type {\n",
       "        vertical-align: middle;\n",
       "    }\n",
       "\n",
       "    .dataframe tbody tr th {\n",
       "        vertical-align: top;\n",
       "    }\n",
       "\n",
       "    .dataframe thead th {\n",
       "        text-align: right;\n",
       "    }\n",
       "</style>\n",
       "<table border=\"1\" class=\"dataframe\">\n",
       "  <thead>\n",
       "    <tr style=\"text-align: right;\">\n",
       "      <th></th>\n",
       "      <th>ticket_id</th>\n",
       "      <th>user_name</th>\n",
       "      <th>performance_id</th>\n",
       "    </tr>\n",
       "  </thead>\n",
       "  <tbody>\n",
       "    <tr>\n",
       "      <th>0</th>\n",
       "      <td>5f389622a33aefbf3f6f380bdca50ade</td>\n",
       "      <td>bob</td>\n",
       "      <td>616ae5b633a95f9526875462f7754bf2</td>\n",
       "    </tr>\n",
       "  </tbody>\n",
       "</table>\n",
       "</div>"
      ],
      "text/plain": [
       "                          ticket_id user_name  \\\n",
       "0  5f389622a33aefbf3f6f380bdca50ade       bob   \n",
       "\n",
       "                     performance_id  \n",
       "0  616ae5b633a95f9526875462f7754bf2  "
      ]
     },
     "execution_count": 13,
     "metadata": {},
     "output_type": "execute_result"
    }
   ],
   "source": [
    "%%sql\n",
    "select *\n",
    "from tickets"
   ]
  },
  {
   "cell_type": "code",
   "execution_count": 14,
   "id": "09b9f05f-5916-431e-b69b-c8807687f939",
   "metadata": {},
   "outputs": [
    {
     "data": {
      "text/html": [
       "<span style=\"None\">Running query in &#x27;sqlite:///movies.sqlite&#x27;</span>"
      ],
      "text/plain": [
       "Running query in 'sqlite:///movies.sqlite'"
      ]
     },
     "metadata": {},
     "output_type": "display_data"
    },
    {
     "data": {
      "text/html": [
       "<div>\n",
       "<style scoped>\n",
       "    .dataframe tbody tr th:only-of-type {\n",
       "        vertical-align: middle;\n",
       "    }\n",
       "\n",
       "    .dataframe tbody tr th {\n",
       "        vertical-align: top;\n",
       "    }\n",
       "\n",
       "    .dataframe thead th {\n",
       "        text-align: right;\n",
       "    }\n",
       "</style>\n",
       "<table border=\"1\" class=\"dataframe\">\n",
       "  <thead>\n",
       "    <tr style=\"text-align: right;\">\n",
       "      <th></th>\n",
       "      <th>performance_id</th>\n",
       "      <th>date</th>\n",
       "      <th>start_time</th>\n",
       "      <th>title</th>\n",
       "      <th>year</th>\n",
       "      <th>theater_name</th>\n",
       "      <th>remaining_seats</th>\n",
       "    </tr>\n",
       "  </thead>\n",
       "  <tbody>\n",
       "    <tr>\n",
       "      <th>0</th>\n",
       "      <td>616ae5b633a95f9526875462f7754bf2</td>\n",
       "      <td>2024-02-14</td>\n",
       "      <td>19:00</td>\n",
       "      <td>Forrest Gump</td>\n",
       "      <td>1993</td>\n",
       "      <td>Kino</td>\n",
       "      <td>9</td>\n",
       "    </tr>\n",
       "  </tbody>\n",
       "</table>\n",
       "</div>"
      ],
      "text/plain": [
       "                     performance_id        date start_time         title  \\\n",
       "0  616ae5b633a95f9526875462f7754bf2  2024-02-14      19:00  Forrest Gump   \n",
       "\n",
       "   year theater_name  remaining_seats  \n",
       "0  1993         Kino                9  "
      ]
     },
     "execution_count": 14,
     "metadata": {},
     "output_type": "execute_result"
    }
   ],
   "source": [
    "%%sql\n",
    "with taken_seats(performance_id, taken) as (\n",
    "    select performance_id, count() as taken\n",
    "    from performances\n",
    "            join theaters using(theater_name)\n",
    "            join tickets using(performance_id)\n",
    "    group by performance_id\n",
    ")\n",
    "select performance_id, date, start_time, title, year, theater_name, capacity - coalesce(taken, 0) as remaining_seats\n",
    "from performances\n",
    "        join theaters using(theater_name)\n",
    "        join movies using(imdb)\n",
    "     left outer join taken_seats using(performance_id)"
   ]
  },
  {
   "cell_type": "code",
   "execution_count": 20,
   "id": "0a5dde34-ec66-4fc8-9a04-debc6f98853c",
   "metadata": {},
   "outputs": [
    {
     "data": {
      "text/html": [
       "<span style=\"None\">Running query in &#x27;sqlite:///movies.sqlite&#x27;</span>"
      ],
      "text/plain": [
       "Running query in 'sqlite:///movies.sqlite'"
      ]
     },
     "metadata": {},
     "output_type": "display_data"
    },
    {
     "data": {
      "text/html": [
       "<div>\n",
       "<style scoped>\n",
       "    .dataframe tbody tr th:only-of-type {\n",
       "        vertical-align: middle;\n",
       "    }\n",
       "\n",
       "    .dataframe tbody tr th {\n",
       "        vertical-align: top;\n",
       "    }\n",
       "\n",
       "    .dataframe thead th {\n",
       "        text-align: right;\n",
       "    }\n",
       "</style>\n",
       "<table border=\"1\" class=\"dataframe\">\n",
       "  <thead>\n",
       "    <tr style=\"text-align: right;\">\n",
       "      <th></th>\n",
       "      <th>remaining_seats</th>\n",
       "    </tr>\n",
       "  </thead>\n",
       "  <tbody>\n",
       "    <tr>\n",
       "      <th>0</th>\n",
       "      <td>1</td>\n",
       "    </tr>\n",
       "  </tbody>\n",
       "</table>\n",
       "</div>"
      ],
      "text/plain": [
       "   remaining_seats\n",
       "0                1"
      ]
     },
     "execution_count": 20,
     "metadata": {},
     "output_type": "execute_result"
    }
   ],
   "source": [
    "%%sql\n",
    "with taken_seats(performance_id, taken) as (\n",
    "    select performance_id, count() as taken\n",
    "    from performances\n",
    "            join theaters using(theater_name)\n",
    "            join tickets using(performance_id)\n",
    "    group by performance_id\n",
    ")\n",
    "select (capacity - coalesce(taken, 0))>0 as remaining_seats\n",
    "from performances\n",
    "        join theaters using(theater_name)\n",
    "        join movies using(imdb)\n",
    "        left outer join taken_seats using(performance_id)"
   ]
  },
  {
   "cell_type": "code",
   "execution_count": 15,
   "id": "1adf8922-d7f8-417f-be6f-8b711866b98e",
   "metadata": {},
   "outputs": [
    {
     "data": {
      "text/html": [
       "<span style=\"None\">Running query in &#x27;sqlite:///movies.sqlite&#x27;</span>"
      ],
      "text/plain": [
       "Running query in 'sqlite:///movies.sqlite'"
      ]
     },
     "metadata": {},
     "output_type": "display_data"
    },
    {
     "data": {
      "text/html": [
       "<div>\n",
       "<style scoped>\n",
       "    .dataframe tbody tr th:only-of-type {\n",
       "        vertical-align: middle;\n",
       "    }\n",
       "\n",
       "    .dataframe tbody tr th {\n",
       "        vertical-align: top;\n",
       "    }\n",
       "\n",
       "    .dataframe thead th {\n",
       "        text-align: right;\n",
       "    }\n",
       "</style>\n",
       "<table border=\"1\" class=\"dataframe\">\n",
       "  <thead>\n",
       "    <tr style=\"text-align: right;\">\n",
       "      <th></th>\n",
       "      <th>date</th>\n",
       "      <th>start_time</th>\n",
       "      <th>theater_name</th>\n",
       "      <th>title</th>\n",
       "      <th>year</th>\n",
       "      <th>nbrOfTickets</th>\n",
       "    </tr>\n",
       "  </thead>\n",
       "  <tbody>\n",
       "    <tr>\n",
       "      <th>0</th>\n",
       "      <td>2024-02-14</td>\n",
       "      <td>19:00</td>\n",
       "      <td>Kino</td>\n",
       "      <td>Forrest Gump</td>\n",
       "      <td>1993</td>\n",
       "      <td>1</td>\n",
       "    </tr>\n",
       "  </tbody>\n",
       "</table>\n",
       "</div>"
      ],
      "text/plain": [
       "         date start_time theater_name         title  year  nbrOfTickets\n",
       "0  2024-02-14      19:00         Kino  Forrest Gump  1993             1"
      ]
     },
     "execution_count": 15,
     "metadata": {},
     "output_type": "execute_result"
    }
   ],
   "source": [
    "%%sql\n",
    "with user_tickets(performance_id, count) as (\n",
    "    select   performance_id, count() as count\n",
    "    from     tickets\n",
    "    where    user_name = 'bob'\n",
    "    group by performance_id\n",
    ")\n",
    "select date, start_time, theater_name, title, year, count as nbrOfTickets\n",
    "from   user_tickets\n",
    "        join performances using(performance_id)\n",
    "        join movies using(imdb)"
   ]
  },
  {
   "cell_type": "code",
   "execution_count": null,
   "id": "febc2df0-ef89-44ac-bb38-8b2f4f49fd19",
   "metadata": {},
   "outputs": [],
   "source": []
  }
 ],
 "metadata": {
  "kernelspec": {
   "display_name": "Python 3 (ipykernel)",
   "language": "python",
   "name": "python3"
  },
  "language_info": {
   "codemirror_mode": {
    "name": "ipython",
    "version": 3
   },
   "file_extension": ".py",
   "mimetype": "text/x-python",
   "name": "python",
   "nbconvert_exporter": "python",
   "pygments_lexer": "ipython3",
   "version": "3.11.6"
  }
 },
 "nbformat": 4,
 "nbformat_minor": 5
}
