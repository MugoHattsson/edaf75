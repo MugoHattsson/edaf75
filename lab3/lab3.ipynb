{
 "cells": [
  {
   "cell_type": "code",
   "execution_count": 1,
   "id": "5de82b04-a212-4953-b4f1-8fe9b6ad6adb",
   "metadata": {},
   "outputs": [
    {
     "name": "stdout",
     "output_type": "stream",
     "text": [
      "There's a new jupysql version available (0.10.10), you're running 0.10.8. To upgrade: pip install jupysql --upgrade\n",
      "Deploy AI and data apps for free on Ploomber Cloud! Learn more: https://docs.cloud.ploomber.io/en/latest/quickstart/signup.html\n"
     ]
    },
    {
     "data": {
      "text/html": [
       "<span style=\"None\">Loading configurations from /home/hugo/Documents/skola/edaf75/repo/pyproject.toml.</span>"
      ],
      "text/plain": [
       "Loading configurations from /home/hugo/Documents/skola/edaf75/repo/pyproject.toml."
      ]
     },
     "metadata": {},
     "output_type": "display_data"
    },
    {
     "data": {
      "text/html": [
       "<span style=\"None\">Settings changed:</span>"
      ],
      "text/plain": [
       "Settings changed:"
      ]
     },
     "metadata": {},
     "output_type": "display_data"
    },
    {
     "data": {
      "text/html": [
       "\n",
       "<table>\n",
       "    <thead>\n",
       "        <tr>\n",
       "            <th>Config</th>\n",
       "            <th>value</th>\n",
       "        </tr>\n",
       "    </thead>\n",
       "    <tbody>\n",
       "        <tr>\n",
       "            <td>feedback</td>\n",
       "            <td>True</td>\n",
       "        </tr>\n",
       "        <tr>\n",
       "            <td>autopandas</td>\n",
       "            <td>True</td>\n",
       "        </tr>\n",
       "    </tbody>\n",
       "</table>"
      ],
      "text/plain": [
       "\n",
       "+------------+-------+\n",
       "|   Config   | value |\n",
       "+------------+-------+\n",
       "|  feedback  |  True |\n",
       "| autopandas |  True |\n",
       "+------------+-------+"
      ]
     },
     "metadata": {},
     "output_type": "display_data"
    }
   ],
   "source": [
    "%load_ext sql"
   ]
  },
  {
   "cell_type": "code",
   "execution_count": 2,
   "id": "35dd91df-a8e7-4e96-a03b-f36dc0e25ee2",
   "metadata": {},
   "outputs": [
    {
     "data": {
      "text/html": [
       "<span style=\"None\">Connecting to &#x27;sqlite:///movies.sqlite&#x27;</span>"
      ],
      "text/plain": [
       "Connecting to 'sqlite:///movies.sqlite'"
      ]
     },
     "metadata": {},
     "output_type": "display_data"
    }
   ],
   "source": [
    "%sql sqlite:///movies.sqlite"
   ]
  },
  {
   "cell_type": "code",
   "execution_count": 52,
   "id": "1eaff8b7-5dc2-4e98-9024-d9eff4dc5708",
   "metadata": {},
   "outputs": [
    {
     "data": {
      "text/html": [
       "<span style=\"None\">Running query in &#x27;sqlite:///movies.sqlite&#x27;</span>"
      ],
      "text/plain": [
       "Running query in 'sqlite:///movies.sqlite'"
      ]
     },
     "metadata": {},
     "output_type": "display_data"
    },
    {
     "data": {
      "text/html": [
       "<span style=\"color: green\">3 rows affected.</span>"
      ],
      "text/plain": [
       "3 rows affected."
      ]
     },
     "metadata": {},
     "output_type": "display_data"
    },
    {
     "data": {
      "text/html": [
       "<span style=\"color: green\">1 rows affected.</span>"
      ],
      "text/plain": [
       "1 rows affected."
      ]
     },
     "metadata": {},
     "output_type": "display_data"
    },
    {
     "data": {
      "text/html": [
       "<span style=\"color: green\">1 rows affected.</span>"
      ],
      "text/plain": [
       "1 rows affected."
      ]
     },
     "metadata": {},
     "output_type": "display_data"
    },
    {
     "data": {
      "text/html": [
       "<span style=\"color: green\">1 rows affected.</span>"
      ],
      "text/plain": [
       "1 rows affected."
      ]
     },
     "metadata": {},
     "output_type": "display_data"
    },
    {
     "data": {
      "text/html": [
       "<div>\n",
       "<style scoped>\n",
       "    .dataframe tbody tr th:only-of-type {\n",
       "        vertical-align: middle;\n",
       "    }\n",
       "\n",
       "    .dataframe tbody tr th {\n",
       "        vertical-align: top;\n",
       "    }\n",
       "\n",
       "    .dataframe thead th {\n",
       "        text-align: right;\n",
       "    }\n",
       "</style>\n",
       "<table border=\"1\" class=\"dataframe\">\n",
       "  <thead>\n",
       "    <tr style=\"text-align: right;\">\n",
       "      <th></th>\n",
       "    </tr>\n",
       "  </thead>\n",
       "  <tbody>\n",
       "  </tbody>\n",
       "</table>\n",
       "</div>"
      ],
      "text/plain": [
       "Empty DataFrame\n",
       "Columns: []\n",
       "Index: []"
      ]
     },
     "execution_count": 52,
     "metadata": {},
     "output_type": "execute_result"
    }
   ],
   "source": [
    "%%sql\n",
    "PRAGMA foreign_keys=OFF;\n",
    "\n",
    "DROP TABLE IF EXISTS theaters;\n",
    "DROP TABLE IF EXISTS customers;\n",
    "DROP TABLE IF EXISTS movies;\n",
    "DROP TABLE IF EXISTS performances;\n",
    "DROP TABLE IF EXISTS tickets;\n",
    "\n",
    "PRAGMA foreign_keys=ON;\n",
    "\n",
    "-- Create the tables.\n",
    "CREATE TABLE theaters (\n",
    "    theater_name    TEXT,\n",
    "    capacity        INT,\n",
    "    PRIMARY KEY     (theater_name)\n",
    ");\n",
    "\n",
    "CREATE TABLE customers (\n",
    "    user_name       TEXT,\n",
    "    full_name       TEXT,\n",
    "    password        TEXT,\n",
    "    PRIMARY KEY     (user_name)\n",
    ");\n",
    "\n",
    "CREATE TABLE movies (\n",
    "    imdb            TEXT,\n",
    "    title           TEXT,\n",
    "    year            INT,\n",
    "    PRIMARY KEY     (imdb)\n",
    ");\n",
    "\n",
    "CREATE TABLE performances (\n",
    "    performance_id  TEXT DEFAULT (lower(hex(randomblob(16)))),\n",
    "    start_time      TIME,\n",
    "    date            DATE,\n",
    "    theater_name    TEXT,\n",
    "    imdb            TEXT,\n",
    "    PRIMARY KEY     (performance_id),\n",
    "    FOREIGN KEY     (theater_name) REFERENCES theaters(theater_name),\n",
    "    FOREIGN KEY     (imdb) REFERENCES movies(imdb)          \n",
    ");\n",
    "\n",
    "CREATE TABLE tickets (\n",
    "    ticket_id       TEXT DEFAULT (lower(hex(randomblob(16)))),\n",
    "    user_name       TEXT,\n",
    "    performance_id  TEXT,\n",
    "    PRIMARY KEY     (ticket_id),\n",
    "    FOREIGN KEY     (user_name) REFERENCES customers(user_name),\n",
    "    FOREIGN KEY     (performance_id) REFERENCES performances(performance_id)\n",
    ");\n",
    "\n",
    "drop trigger if exists ticket_limit;\n",
    "    create trigger ticket_limit\n",
    "        before insert on tickets\n",
    "        when\n",
    "            (with taken_seats(performance_id, taken) as (\n",
    "                select performance_id, count() as taken\n",
    "                from performances\n",
    "                        join tickets using(performance_id)\n",
    "                group by performance_id\n",
    "            )\n",
    "            select capacity - coalesce(taken, 0) as remaining_seats\n",
    "            from performances\n",
    "                    join theaters using(theater_name)\n",
    "                    join movies using(imdb)\n",
    "                    left outer join taken_seats using(performance_id)\n",
    "            where performance_id = NEW.performance_id) <= 0\n",
    "        begin\n",
    "            select raise (rollback, \"No tickets left\");\n",
    "        end;\n",
    "\n",
    "-- Insert data into the tables.\n",
    "INSERT\n",
    "INTO    theaters(theater_name, capacity)\n",
    "VALUES  ('Kino', 10),\n",
    "        ('Regal', 16),\n",
    "        ('Skandia', 100);\n",
    "\n",
    "insert\n",
    "into    movies(imdb, title, year)\n",
    "values  ('abc', 'Forrest Gump', 1993);\n",
    "\n",
    "insert\n",
    "into    performances(performance_id, start_time, date, theater_name, imdb)\n",
    "values  ('perf_1', '19:00', '2024-02-14', 'Kino', 'abc');\n",
    "\n",
    "insert\n",
    "into    customers(user_name, full_name, password)\n",
    "values  ('bob', 'Bob', 'bob');"
   ]
  },
  {
   "cell_type": "code",
   "execution_count": 53,
   "id": "92d7f9e0-15a6-4f8f-812b-b214e70833df",
   "metadata": {},
   "outputs": [
    {
     "data": {
      "text/html": [
       "<span style=\"None\">Running query in &#x27;sqlite:///movies.sqlite&#x27;</span>"
      ],
      "text/plain": [
       "Running query in 'sqlite:///movies.sqlite'"
      ]
     },
     "metadata": {},
     "output_type": "display_data"
    },
    {
     "data": {
      "text/html": [
       "<div>\n",
       "<style scoped>\n",
       "    .dataframe tbody tr th:only-of-type {\n",
       "        vertical-align: middle;\n",
       "    }\n",
       "\n",
       "    .dataframe tbody tr th {\n",
       "        vertical-align: top;\n",
       "    }\n",
       "\n",
       "    .dataframe thead th {\n",
       "        text-align: right;\n",
       "    }\n",
       "</style>\n",
       "<table border=\"1\" class=\"dataframe\">\n",
       "  <thead>\n",
       "    <tr style=\"text-align: right;\">\n",
       "      <th></th>\n",
       "      <th>performance_id</th>\n",
       "      <th>start_time</th>\n",
       "      <th>date</th>\n",
       "      <th>theater_name</th>\n",
       "      <th>imdb</th>\n",
       "    </tr>\n",
       "  </thead>\n",
       "  <tbody>\n",
       "    <tr>\n",
       "      <th>0</th>\n",
       "      <td>perf_1</td>\n",
       "      <td>19:00</td>\n",
       "      <td>2024-02-14</td>\n",
       "      <td>Kino</td>\n",
       "      <td>abc</td>\n",
       "    </tr>\n",
       "  </tbody>\n",
       "</table>\n",
       "</div>"
      ],
      "text/plain": [
       "  performance_id start_time        date theater_name imdb\n",
       "0         perf_1      19:00  2024-02-14         Kino  abc"
      ]
     },
     "execution_count": 53,
     "metadata": {},
     "output_type": "execute_result"
    }
   ],
   "source": [
    "%%sql\n",
    "select *\n",
    "from performances"
   ]
  },
  {
   "cell_type": "code",
   "execution_count": 56,
   "id": "ed91c727-aa44-41ce-9eb2-af508eea5da2",
   "metadata": {},
   "outputs": [
    {
     "data": {
      "text/html": [
       "<span style=\"None\">Running query in &#x27;sqlite:///movies.sqlite&#x27;</span>"
      ],
      "text/plain": [
       "Running query in 'sqlite:///movies.sqlite'"
      ]
     },
     "metadata": {},
     "output_type": "display_data"
    },
    {
     "data": {
      "text/html": [
       "<div>\n",
       "<style scoped>\n",
       "    .dataframe tbody tr th:only-of-type {\n",
       "        vertical-align: middle;\n",
       "    }\n",
       "\n",
       "    .dataframe tbody tr th {\n",
       "        vertical-align: top;\n",
       "    }\n",
       "\n",
       "    .dataframe thead th {\n",
       "        text-align: right;\n",
       "    }\n",
       "</style>\n",
       "<table border=\"1\" class=\"dataframe\">\n",
       "  <thead>\n",
       "    <tr style=\"text-align: right;\">\n",
       "      <th></th>\n",
       "      <th>ticket_id</th>\n",
       "    </tr>\n",
       "  </thead>\n",
       "  <tbody>\n",
       "    <tr>\n",
       "      <th>0</th>\n",
       "      <td>ed77ef64de787e8105005725957fe5e8</td>\n",
       "    </tr>\n",
       "  </tbody>\n",
       "</table>\n",
       "</div>"
      ],
      "text/plain": [
       "                          ticket_id\n",
       "0  ed77ef64de787e8105005725957fe5e8"
      ]
     },
     "execution_count": 56,
     "metadata": {},
     "output_type": "execute_result"
    }
   ],
   "source": [
    "%%sql\n",
    "insert\n",
    "into   tickets(user_name, performance_id)\n",
    "values ('bob', 'perf_1')\n",
    "returning ticket_id"
   ]
  },
  {
   "cell_type": "code",
   "execution_count": 54,
   "id": "e5d4fac9-c0ea-42a4-920a-a61fb0ddf9b4",
   "metadata": {},
   "outputs": [
    {
     "data": {
      "text/html": [
       "<span style=\"None\">Running query in &#x27;sqlite:///movies.sqlite&#x27;</span>"
      ],
      "text/plain": [
       "Running query in 'sqlite:///movies.sqlite'"
      ]
     },
     "metadata": {},
     "output_type": "display_data"
    },
    {
     "data": {
      "text/html": [
       "<div>\n",
       "<style scoped>\n",
       "    .dataframe tbody tr th:only-of-type {\n",
       "        vertical-align: middle;\n",
       "    }\n",
       "\n",
       "    .dataframe tbody tr th {\n",
       "        vertical-align: top;\n",
       "    }\n",
       "\n",
       "    .dataframe thead th {\n",
       "        text-align: right;\n",
       "    }\n",
       "</style>\n",
       "<table border=\"1\" class=\"dataframe\">\n",
       "  <thead>\n",
       "    <tr style=\"text-align: right;\">\n",
       "      <th></th>\n",
       "      <th>ticket_id</th>\n",
       "      <th>user_name</th>\n",
       "      <th>performance_id</th>\n",
       "    </tr>\n",
       "  </thead>\n",
       "  <tbody>\n",
       "  </tbody>\n",
       "</table>\n",
       "</div>"
      ],
      "text/plain": [
       "Empty DataFrame\n",
       "Columns: [ticket_id, user_name, performance_id]\n",
       "Index: []"
      ]
     },
     "execution_count": 54,
     "metadata": {},
     "output_type": "execute_result"
    }
   ],
   "source": [
    "%%sql\n",
    "select *\n",
    "from tickets"
   ]
  },
  {
   "cell_type": "code",
   "execution_count": 57,
   "id": "09b9f05f-5916-431e-b69b-c8807687f939",
   "metadata": {},
   "outputs": [
    {
     "data": {
      "text/html": [
       "<span style=\"None\">Running query in &#x27;sqlite:///movies.sqlite&#x27;</span>"
      ],
      "text/plain": [
       "Running query in 'sqlite:///movies.sqlite'"
      ]
     },
     "metadata": {},
     "output_type": "display_data"
    },
    {
     "data": {
      "text/html": [
       "<div>\n",
       "<style scoped>\n",
       "    .dataframe tbody tr th:only-of-type {\n",
       "        vertical-align: middle;\n",
       "    }\n",
       "\n",
       "    .dataframe tbody tr th {\n",
       "        vertical-align: top;\n",
       "    }\n",
       "\n",
       "    .dataframe thead th {\n",
       "        text-align: right;\n",
       "    }\n",
       "</style>\n",
       "<table border=\"1\" class=\"dataframe\">\n",
       "  <thead>\n",
       "    <tr style=\"text-align: right;\">\n",
       "      <th></th>\n",
       "      <th>performance_id</th>\n",
       "      <th>date</th>\n",
       "      <th>start_time</th>\n",
       "      <th>title</th>\n",
       "      <th>year</th>\n",
       "      <th>theater_name</th>\n",
       "      <th>remaining_seats</th>\n",
       "    </tr>\n",
       "  </thead>\n",
       "  <tbody>\n",
       "    <tr>\n",
       "      <th>0</th>\n",
       "      <td>perf_1</td>\n",
       "      <td>2024-02-14</td>\n",
       "      <td>19:00</td>\n",
       "      <td>Forrest Gump</td>\n",
       "      <td>1993</td>\n",
       "      <td>Kino</td>\n",
       "      <td>9</td>\n",
       "    </tr>\n",
       "  </tbody>\n",
       "</table>\n",
       "</div>"
      ],
      "text/plain": [
       "  performance_id        date start_time         title  year theater_name  \\\n",
       "0         perf_1  2024-02-14      19:00  Forrest Gump  1993         Kino   \n",
       "\n",
       "   remaining_seats  \n",
       "0                9  "
      ]
     },
     "execution_count": 57,
     "metadata": {},
     "output_type": "execute_result"
    }
   ],
   "source": [
    "%%sql\n",
    "with taken_seats(performance_id, taken) as (\n",
    "    select performance_id, count() as taken\n",
    "    from performances\n",
    "            join theaters using(theater_name)\n",
    "            join tickets using(performance_id)\n",
    "    group by performance_id\n",
    ")\n",
    "select performance_id, date, start_time, title, year, theater_name, capacity - coalesce(taken, 0) as remaining_seats\n",
    "from performances\n",
    "        join theaters using(theater_name)\n",
    "        join movies using(imdb)\n",
    "     left outer join taken_seats using(performance_id)"
   ]
  },
  {
   "cell_type": "code",
   "execution_count": 36,
   "id": "0a5dde34-ec66-4fc8-9a04-debc6f98853c",
   "metadata": {},
   "outputs": [
    {
     "data": {
      "text/html": [
       "<span style=\"None\">Running query in &#x27;sqlite:///movies.sqlite&#x27;</span>"
      ],
      "text/plain": [
       "Running query in 'sqlite:///movies.sqlite'"
      ]
     },
     "metadata": {},
     "output_type": "display_data"
    },
    {
     "data": {
      "text/html": [
       "<div>\n",
       "<style scoped>\n",
       "    .dataframe tbody tr th:only-of-type {\n",
       "        vertical-align: middle;\n",
       "    }\n",
       "\n",
       "    .dataframe tbody tr th {\n",
       "        vertical-align: top;\n",
       "    }\n",
       "\n",
       "    .dataframe thead th {\n",
       "        text-align: right;\n",
       "    }\n",
       "</style>\n",
       "<table border=\"1\" class=\"dataframe\">\n",
       "  <thead>\n",
       "    <tr style=\"text-align: right;\">\n",
       "      <th></th>\n",
       "      <th>remaining_seats</th>\n",
       "    </tr>\n",
       "  </thead>\n",
       "  <tbody>\n",
       "    <tr>\n",
       "      <th>0</th>\n",
       "      <td>1</td>\n",
       "    </tr>\n",
       "  </tbody>\n",
       "</table>\n",
       "</div>"
      ],
      "text/plain": [
       "   remaining_seats\n",
       "0                1"
      ]
     },
     "execution_count": 36,
     "metadata": {},
     "output_type": "execute_result"
    }
   ],
   "source": [
    "%%sql\n",
    "with taken_seats(performance_id, taken) as (\n",
    "    select performance_id, count() as taken\n",
    "    from performances\n",
    "            join theaters using(theater_name)\n",
    "            join tickets using(performance_id)\n",
    "    group by performance_id\n",
    ")\n",
    "select (capacity - coalesce(taken, 0))>0 as remaining_seats\n",
    "from performances\n",
    "        join theaters using(theater_name)\n",
    "        join movies using(imdb)\n",
    "        left outer join taken_seats using(performance_id)"
   ]
  },
  {
   "cell_type": "code",
   "execution_count": 37,
   "id": "1adf8922-d7f8-417f-be6f-8b711866b98e",
   "metadata": {},
   "outputs": [
    {
     "data": {
      "text/html": [
       "<span style=\"None\">Running query in &#x27;sqlite:///movies.sqlite&#x27;</span>"
      ],
      "text/plain": [
       "Running query in 'sqlite:///movies.sqlite'"
      ]
     },
     "metadata": {},
     "output_type": "display_data"
    },
    {
     "data": {
      "text/html": [
       "<div>\n",
       "<style scoped>\n",
       "    .dataframe tbody tr th:only-of-type {\n",
       "        vertical-align: middle;\n",
       "    }\n",
       "\n",
       "    .dataframe tbody tr th {\n",
       "        vertical-align: top;\n",
       "    }\n",
       "\n",
       "    .dataframe thead th {\n",
       "        text-align: right;\n",
       "    }\n",
       "</style>\n",
       "<table border=\"1\" class=\"dataframe\">\n",
       "  <thead>\n",
       "    <tr style=\"text-align: right;\">\n",
       "      <th></th>\n",
       "      <th>date</th>\n",
       "      <th>start_time</th>\n",
       "      <th>theater_name</th>\n",
       "      <th>title</th>\n",
       "      <th>year</th>\n",
       "      <th>nbrOfTickets</th>\n",
       "    </tr>\n",
       "  </thead>\n",
       "  <tbody>\n",
       "    <tr>\n",
       "      <th>0</th>\n",
       "      <td>2024-02-14</td>\n",
       "      <td>19:00</td>\n",
       "      <td>Kino</td>\n",
       "      <td>Forrest Gump</td>\n",
       "      <td>1993</td>\n",
       "      <td>1</td>\n",
       "    </tr>\n",
       "  </tbody>\n",
       "</table>\n",
       "</div>"
      ],
      "text/plain": [
       "         date start_time theater_name         title  year  nbrOfTickets\n",
       "0  2024-02-14      19:00         Kino  Forrest Gump  1993             1"
      ]
     },
     "execution_count": 37,
     "metadata": {},
     "output_type": "execute_result"
    }
   ],
   "source": [
    "%%sql\n",
    "with user_tickets(performance_id, count) as (\n",
    "    select   performance_id, count() as count\n",
    "    from     tickets\n",
    "    where    user_name = 'bob'\n",
    "    group by performance_id\n",
    ")\n",
    "select date, start_time, theater_name, title, year, count as nbrOfTickets\n",
    "from   user_tickets\n",
    "        join performances using(performance_id)\n",
    "        join movies using(imdb)"
   ]
  },
  {
   "cell_type": "code",
   "execution_count": null,
   "id": "febc2df0-ef89-44ac-bb38-8b2f4f49fd19",
   "metadata": {},
   "outputs": [],
   "source": []
  }
 ],
 "metadata": {
  "kernelspec": {
   "display_name": "Python 3 (ipykernel)",
   "language": "python",
   "name": "python3"
  },
  "language_info": {
   "codemirror_mode": {
    "name": "ipython",
    "version": 3
   },
   "file_extension": ".py",
   "mimetype": "text/x-python",
   "name": "python",
   "nbconvert_exporter": "python",
   "pygments_lexer": "ipython3",
   "version": "3.11.6"
  }
 },
 "nbformat": 4,
 "nbformat_minor": 5
}
