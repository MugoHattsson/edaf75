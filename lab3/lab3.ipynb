{
 "cells": [
  {
   "cell_type": "code",
   "execution_count": 1,
   "id": "5de82b04-a212-4953-b4f1-8fe9b6ad6adb",
   "metadata": {},
   "outputs": [
    {
     "name": "stdout",
     "output_type": "stream",
     "text": [
      "There's a new jupysql version available (0.10.9), you're running 0.10.8. To upgrade: pip install jupysql --upgrade\n",
      "Deploy AI and data apps for free on Ploomber Cloud! Learn more: https://docs.cloud.ploomber.io/en/latest/quickstart/signup.html\n"
     ]
    },
    {
     "data": {
      "text/html": [
       "<span style=\"None\">Loading configurations from /home/hugo/Documents/skola/edaf75/repo/pyproject.toml.</span>"
      ],
      "text/plain": [
       "Loading configurations from /home/hugo/Documents/skola/edaf75/repo/pyproject.toml."
      ]
     },
     "metadata": {},
     "output_type": "display_data"
    },
    {
     "data": {
      "text/html": [
       "<span style=\"None\">Settings changed:</span>"
      ],
      "text/plain": [
       "Settings changed:"
      ]
     },
     "metadata": {},
     "output_type": "display_data"
    },
    {
     "data": {
      "text/html": [
       "\n",
       "<table>\n",
       "    <thead>\n",
       "        <tr>\n",
       "            <th>Config</th>\n",
       "            <th>value</th>\n",
       "        </tr>\n",
       "    </thead>\n",
       "    <tbody>\n",
       "        <tr>\n",
       "            <td>feedback</td>\n",
       "            <td>True</td>\n",
       "        </tr>\n",
       "        <tr>\n",
       "            <td>autopandas</td>\n",
       "            <td>True</td>\n",
       "        </tr>\n",
       "    </tbody>\n",
       "</table>"
      ],
      "text/plain": [
       "\n",
       "+------------+-------+\n",
       "|   Config   | value |\n",
       "+------------+-------+\n",
       "|  feedback  |  True |\n",
       "| autopandas |  True |\n",
       "+------------+-------+"
      ]
     },
     "metadata": {},
     "output_type": "display_data"
    }
   ],
   "source": [
    "%load_ext sql"
   ]
  },
  {
   "cell_type": "code",
   "execution_count": 2,
   "id": "35dd91df-a8e7-4e96-a03b-f36dc0e25ee2",
   "metadata": {},
   "outputs": [
    {
     "data": {
      "text/html": [
       "<span style=\"None\">Connecting to &#x27;sqlite:///movies.sqlite&#x27;</span>"
      ],
      "text/plain": [
       "Connecting to 'sqlite:///movies.sqlite'"
      ]
     },
     "metadata": {},
     "output_type": "display_data"
    }
   ],
   "source": [
    "%sql sqlite:///movies.sqlite"
   ]
  },
  {
   "cell_type": "code",
   "execution_count": 8,
   "id": "ed91c727-aa44-41ce-9eb2-af508eea5da2",
   "metadata": {},
   "outputs": [
    {
     "data": {
      "text/html": [
       "<span style=\"None\">Running query in &#x27;sqlite:///movies.sqlite&#x27;</span>"
      ],
      "text/plain": [
       "Running query in 'sqlite:///movies.sqlite'"
      ]
     },
     "metadata": {},
     "output_type": "display_data"
    },
    {
     "data": {
      "text/html": [
       "<div>\n",
       "<style scoped>\n",
       "    .dataframe tbody tr th:only-of-type {\n",
       "        vertical-align: middle;\n",
       "    }\n",
       "\n",
       "    .dataframe tbody tr th {\n",
       "        vertical-align: top;\n",
       "    }\n",
       "\n",
       "    .dataframe thead th {\n",
       "        text-align: right;\n",
       "    }\n",
       "</style>\n",
       "<table border=\"1\" class=\"dataframe\">\n",
       "  <thead>\n",
       "    <tr style=\"text-align: right;\">\n",
       "      <th></th>\n",
       "      <th>ticket_id</th>\n",
       "    </tr>\n",
       "  </thead>\n",
       "  <tbody>\n",
       "    <tr>\n",
       "      <th>0</th>\n",
       "      <td>7cf6185e18ebc1a7c65d843f1ac65ec6</td>\n",
       "    </tr>\n",
       "  </tbody>\n",
       "</table>\n",
       "</div>"
      ],
      "text/plain": [
       "                          ticket_id\n",
       "0  7cf6185e18ebc1a7c65d843f1ac65ec6"
      ]
     },
     "execution_count": 8,
     "metadata": {},
     "output_type": "execute_result"
    }
   ],
   "source": [
    "%%sql\n",
    "insert\n",
    "into   tickets(user_name, performance_id)\n",
    "values ('bob', '5fa0059c1b18646d54cf4204d2ac6109')\n",
    "returning ticket_id"
   ]
  },
  {
   "cell_type": "code",
   "execution_count": 10,
   "id": "e5d4fac9-c0ea-42a4-920a-a61fb0ddf9b4",
   "metadata": {},
   "outputs": [
    {
     "data": {
      "text/html": [
       "<span style=\"None\">Running query in &#x27;sqlite:///movies.sqlite&#x27;</span>"
      ],
      "text/plain": [
       "Running query in 'sqlite:///movies.sqlite'"
      ]
     },
     "metadata": {},
     "output_type": "display_data"
    },
    {
     "data": {
      "text/html": [
       "<div>\n",
       "<style scoped>\n",
       "    .dataframe tbody tr th:only-of-type {\n",
       "        vertical-align: middle;\n",
       "    }\n",
       "\n",
       "    .dataframe tbody tr th {\n",
       "        vertical-align: top;\n",
       "    }\n",
       "\n",
       "    .dataframe thead th {\n",
       "        text-align: right;\n",
       "    }\n",
       "</style>\n",
       "<table border=\"1\" class=\"dataframe\">\n",
       "  <thead>\n",
       "    <tr style=\"text-align: right;\">\n",
       "      <th></th>\n",
       "      <th>ticket_id</th>\n",
       "      <th>user_name</th>\n",
       "      <th>performance_id</th>\n",
       "    </tr>\n",
       "  </thead>\n",
       "  <tbody>\n",
       "    <tr>\n",
       "      <th>0</th>\n",
       "      <td>3edf76d8a2700f4bc54dc8949aee353b</td>\n",
       "      <td>bob</td>\n",
       "      <td>5fa0059c1b18646d54cf4204d2ac6109</td>\n",
       "    </tr>\n",
       "    <tr>\n",
       "      <th>1</th>\n",
       "      <td>7cf6185e18ebc1a7c65d843f1ac65ec6</td>\n",
       "      <td>bob</td>\n",
       "      <td>5fa0059c1b18646d54cf4204d2ac6109</td>\n",
       "    </tr>\n",
       "  </tbody>\n",
       "</table>\n",
       "</div>"
      ],
      "text/plain": [
       "                          ticket_id user_name  \\\n",
       "0  3edf76d8a2700f4bc54dc8949aee353b       bob   \n",
       "1  7cf6185e18ebc1a7c65d843f1ac65ec6       bob   \n",
       "\n",
       "                     performance_id  \n",
       "0  5fa0059c1b18646d54cf4204d2ac6109  \n",
       "1  5fa0059c1b18646d54cf4204d2ac6109  "
      ]
     },
     "execution_count": 10,
     "metadata": {},
     "output_type": "execute_result"
    }
   ],
   "source": [
    "%%sql\n",
    "select *\n",
    "from tickets"
   ]
  },
  {
   "cell_type": "code",
   "execution_count": 28,
   "id": "09b9f05f-5916-431e-b69b-c8807687f939",
   "metadata": {},
   "outputs": [
    {
     "data": {
      "text/html": [
       "<span style=\"None\">Running query in &#x27;sqlite:///movies.sqlite&#x27;</span>"
      ],
      "text/plain": [
       "Running query in 'sqlite:///movies.sqlite'"
      ]
     },
     "metadata": {},
     "output_type": "display_data"
    },
    {
     "data": {
      "text/html": [
       "<div>\n",
       "<style scoped>\n",
       "    .dataframe tbody tr th:only-of-type {\n",
       "        vertical-align: middle;\n",
       "    }\n",
       "\n",
       "    .dataframe tbody tr th {\n",
       "        vertical-align: top;\n",
       "    }\n",
       "\n",
       "    .dataframe thead th {\n",
       "        text-align: right;\n",
       "    }\n",
       "</style>\n",
       "<table border=\"1\" class=\"dataframe\">\n",
       "  <thead>\n",
       "    <tr style=\"text-align: right;\">\n",
       "      <th></th>\n",
       "      <th>performance_id</th>\n",
       "      <th>date</th>\n",
       "      <th>start_time</th>\n",
       "      <th>title</th>\n",
       "      <th>year</th>\n",
       "      <th>theater_name</th>\n",
       "      <th>remaining_seats</th>\n",
       "    </tr>\n",
       "  </thead>\n",
       "  <tbody>\n",
       "    <tr>\n",
       "      <th>0</th>\n",
       "      <td>5fa0059c1b18646d54cf4204d2ac6109</td>\n",
       "      <td>2021-02-22</td>\n",
       "      <td>19:00</td>\n",
       "      <td>TheDig</td>\n",
       "      <td>2021</td>\n",
       "      <td>Regal</td>\n",
       "      <td>14</td>\n",
       "    </tr>\n",
       "    <tr>\n",
       "      <th>1</th>\n",
       "      <td>fea61d39de2410b6d14a0481166ef26e</td>\n",
       "      <td>2021-02-22</td>\n",
       "      <td>21:00</td>\n",
       "      <td>TheDig</td>\n",
       "      <td>2021</td>\n",
       "      <td>Regal</td>\n",
       "      <td>16</td>\n",
       "    </tr>\n",
       "    <tr>\n",
       "      <th>2</th>\n",
       "      <td>7e6b684bcc6a056689e88b1d3ec6d9f7</td>\n",
       "      <td>2021-02-22</td>\n",
       "      <td>19:00</td>\n",
       "      <td>TheLittleThings</td>\n",
       "      <td>2021</td>\n",
       "      <td>Skandia</td>\n",
       "      <td>100</td>\n",
       "    </tr>\n",
       "  </tbody>\n",
       "</table>\n",
       "</div>"
      ],
      "text/plain": [
       "                     performance_id        date start_time            title  \\\n",
       "0  5fa0059c1b18646d54cf4204d2ac6109  2021-02-22      19:00           TheDig   \n",
       "1  fea61d39de2410b6d14a0481166ef26e  2021-02-22      21:00           TheDig   \n",
       "2  7e6b684bcc6a056689e88b1d3ec6d9f7  2021-02-22      19:00  TheLittleThings   \n",
       "\n",
       "   year theater_name  remaining_seats  \n",
       "0  2021        Regal               14  \n",
       "1  2021        Regal               16  \n",
       "2  2021      Skandia              100  "
      ]
     },
     "execution_count": 28,
     "metadata": {},
     "output_type": "execute_result"
    }
   ],
   "source": [
    "%%sql\n",
    "with taken_seats(performance_id, taken) as (\n",
    "    select performance_id, count() as taken\n",
    "    from performances\n",
    "            join theaters using(theater_name)\n",
    "            join tickets using(performance_id)\n",
    "    group by performance_id\n",
    ")\n",
    "select performance_id, date, start_time, title, year, theater_name, capacity - coalesce(taken, 0) as remaining_seats\n",
    "from performances\n",
    "        join theaters using(theater_name)\n",
    "        join movies using(imdb)\n",
    "     left outer join taken_seats using(performance_id)"
   ]
  },
  {
   "cell_type": "code",
   "execution_count": null,
   "id": "1adf8922-d7f8-417f-be6f-8b711866b98e",
   "metadata": {},
   "outputs": [],
   "source": []
  }
 ],
 "metadata": {
  "kernelspec": {
   "display_name": "Python 3 (ipykernel)",
   "language": "python",
   "name": "python3"
  },
  "language_info": {
   "codemirror_mode": {
    "name": "ipython",
    "version": 3
   },
   "file_extension": ".py",
   "mimetype": "text/x-python",
   "name": "python",
   "nbconvert_exporter": "python",
   "pygments_lexer": "ipython3",
   "version": "3.11.6"
  }
 },
 "nbformat": 4,
 "nbformat_minor": 5
}
