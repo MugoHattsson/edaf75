{
 "cells": [
  {
   "cell_type": "code",
   "execution_count": 2,
   "id": "5de82b04-a212-4953-b4f1-8fe9b6ad6adb",
   "metadata": {},
   "outputs": [
    {
     "data": {
      "text/html": [
       "<span style=\"None\">Loading configurations from /home/hugo/Documents/skola/edaf75/repo/pyproject.toml.</span>"
      ],
      "text/plain": [
       "Loading configurations from /home/hugo/Documents/skola/edaf75/repo/pyproject.toml."
      ]
     },
     "metadata": {},
     "output_type": "display_data"
    },
    {
     "data": {
      "text/html": [
       "<span style=\"None\">Settings changed:</span>"
      ],
      "text/plain": [
       "Settings changed:"
      ]
     },
     "metadata": {},
     "output_type": "display_data"
    },
    {
     "data": {
      "text/html": [
       "\n",
       "<table>\n",
       "    <thead>\n",
       "        <tr>\n",
       "            <th>Config</th>\n",
       "            <th>value</th>\n",
       "        </tr>\n",
       "    </thead>\n",
       "    <tbody>\n",
       "        <tr>\n",
       "            <td>feedback</td>\n",
       "            <td>True</td>\n",
       "        </tr>\n",
       "        <tr>\n",
       "            <td>autopandas</td>\n",
       "            <td>True</td>\n",
       "        </tr>\n",
       "    </tbody>\n",
       "</table>"
      ],
      "text/plain": [
       "\n",
       "+------------+-------+\n",
       "|   Config   | value |\n",
       "+------------+-------+\n",
       "|  feedback  |  True |\n",
       "| autopandas |  True |\n",
       "+------------+-------+"
      ]
     },
     "metadata": {},
     "output_type": "display_data"
    }
   ],
   "source": [
    "%load_ext sql"
   ]
  },
  {
   "cell_type": "code",
   "execution_count": 3,
   "id": "35dd91df-a8e7-4e96-a03b-f36dc0e25ee2",
   "metadata": {},
   "outputs": [
    {
     "data": {
      "text/html": [
       "<span style=\"None\">Connecting to &#x27;sqlite:///movies.sqlite&#x27;</span>"
      ],
      "text/plain": [
       "Connecting to 'sqlite:///movies.sqlite'"
      ]
     },
     "metadata": {},
     "output_type": "display_data"
    }
   ],
   "source": [
    "%sql sqlite:///movies.sqlite"
   ]
  },
  {
   "cell_type": "code",
   "execution_count": 9,
   "id": "92d7f9e0-15a6-4f8f-812b-b214e70833df",
   "metadata": {},
   "outputs": [
    {
     "data": {
      "text/html": [
       "<span style=\"None\">Running query in &#x27;sqlite:///movies.sqlite&#x27;</span>"
      ],
      "text/plain": [
       "Running query in 'sqlite:///movies.sqlite'"
      ]
     },
     "metadata": {},
     "output_type": "display_data"
    },
    {
     "data": {
      "text/html": [
       "<div>\n",
       "<style scoped>\n",
       "    .dataframe tbody tr th:only-of-type {\n",
       "        vertical-align: middle;\n",
       "    }\n",
       "\n",
       "    .dataframe tbody tr th {\n",
       "        vertical-align: top;\n",
       "    }\n",
       "\n",
       "    .dataframe thead th {\n",
       "        text-align: right;\n",
       "    }\n",
       "</style>\n",
       "<table border=\"1\" class=\"dataframe\">\n",
       "  <thead>\n",
       "    <tr style=\"text-align: right;\">\n",
       "      <th></th>\n",
       "      <th>performance_id</th>\n",
       "      <th>start_time</th>\n",
       "      <th>date</th>\n",
       "      <th>theater_name</th>\n",
       "      <th>imdb</th>\n",
       "    </tr>\n",
       "  </thead>\n",
       "  <tbody>\n",
       "    <tr>\n",
       "      <th>0</th>\n",
       "      <td>7a66e300e5e2304f18a6c4a4a7584c5a</td>\n",
       "      <td>19:00</td>\n",
       "      <td>2021-02-22</td>\n",
       "      <td>Regal</td>\n",
       "      <td>tt3661210</td>\n",
       "    </tr>\n",
       "    <tr>\n",
       "      <th>1</th>\n",
       "      <td>61f28a723c476f94d10252a8aaad403d</td>\n",
       "      <td>21:00</td>\n",
       "      <td>2021-02-22</td>\n",
       "      <td>Regal</td>\n",
       "      <td>tt3661210</td>\n",
       "    </tr>\n",
       "    <tr>\n",
       "      <th>2</th>\n",
       "      <td>a32f9fd9ce0cd18f1e722cd0c3bc06e6</td>\n",
       "      <td>19:00</td>\n",
       "      <td>2021-02-22</td>\n",
       "      <td>Skandia</td>\n",
       "      <td>tt10016180</td>\n",
       "    </tr>\n",
       "  </tbody>\n",
       "</table>\n",
       "</div>"
      ],
      "text/plain": [
       "                     performance_id start_time        date theater_name  \\\n",
       "0  7a66e300e5e2304f18a6c4a4a7584c5a      19:00  2021-02-22        Regal   \n",
       "1  61f28a723c476f94d10252a8aaad403d      21:00  2021-02-22        Regal   \n",
       "2  a32f9fd9ce0cd18f1e722cd0c3bc06e6      19:00  2021-02-22      Skandia   \n",
       "\n",
       "         imdb  \n",
       "0   tt3661210  \n",
       "1   tt3661210  \n",
       "2  tt10016180  "
      ]
     },
     "execution_count": 9,
     "metadata": {},
     "output_type": "execute_result"
    }
   ],
   "source": [
    "%%sql\n",
    "select *\n",
    "from performances"
   ]
  },
  {
   "cell_type": "code",
   "execution_count": 21,
   "id": "ed91c727-aa44-41ce-9eb2-af508eea5da2",
   "metadata": {},
   "outputs": [
    {
     "data": {
      "text/html": [
       "<span style=\"None\">Running query in &#x27;sqlite:///movies.sqlite&#x27;</span>"
      ],
      "text/plain": [
       "Running query in 'sqlite:///movies.sqlite'"
      ]
     },
     "metadata": {},
     "output_type": "display_data"
    },
    {
     "data": {
      "text/html": [
       "<div>\n",
       "<style scoped>\n",
       "    .dataframe tbody tr th:only-of-type {\n",
       "        vertical-align: middle;\n",
       "    }\n",
       "\n",
       "    .dataframe tbody tr th {\n",
       "        vertical-align: top;\n",
       "    }\n",
       "\n",
       "    .dataframe thead th {\n",
       "        text-align: right;\n",
       "    }\n",
       "</style>\n",
       "<table border=\"1\" class=\"dataframe\">\n",
       "  <thead>\n",
       "    <tr style=\"text-align: right;\">\n",
       "      <th></th>\n",
       "      <th>ticket_id</th>\n",
       "    </tr>\n",
       "  </thead>\n",
       "  <tbody>\n",
       "    <tr>\n",
       "      <th>0</th>\n",
       "      <td>3a0d4f1fb9918e8ed0a9bcdd95bd3d05</td>\n",
       "    </tr>\n",
       "  </tbody>\n",
       "</table>\n",
       "</div>"
      ],
      "text/plain": [
       "                          ticket_id\n",
       "0  3a0d4f1fb9918e8ed0a9bcdd95bd3d05"
      ]
     },
     "execution_count": 21,
     "metadata": {},
     "output_type": "execute_result"
    }
   ],
   "source": [
    "%%sql\n",
    "insert\n",
    "into   tickets(user_name, performance_id)\n",
    "values ('bob', 'a32f9fd9ce0cd18f1e722cd0c3bc06e6')\n",
    "returning ticket_id"
   ]
  },
  {
   "cell_type": "code",
   "execution_count": 14,
   "id": "e5d4fac9-c0ea-42a4-920a-a61fb0ddf9b4",
   "metadata": {},
   "outputs": [
    {
     "data": {
      "text/html": [
       "<span style=\"None\">Running query in &#x27;sqlite:///movies.sqlite&#x27;</span>"
      ],
      "text/plain": [
       "Running query in 'sqlite:///movies.sqlite'"
      ]
     },
     "metadata": {},
     "output_type": "display_data"
    },
    {
     "data": {
      "text/html": [
       "<div>\n",
       "<style scoped>\n",
       "    .dataframe tbody tr th:only-of-type {\n",
       "        vertical-align: middle;\n",
       "    }\n",
       "\n",
       "    .dataframe tbody tr th {\n",
       "        vertical-align: top;\n",
       "    }\n",
       "\n",
       "    .dataframe thead th {\n",
       "        text-align: right;\n",
       "    }\n",
       "</style>\n",
       "<table border=\"1\" class=\"dataframe\">\n",
       "  <thead>\n",
       "    <tr style=\"text-align: right;\">\n",
       "      <th></th>\n",
       "      <th>ticket_id</th>\n",
       "      <th>user_name</th>\n",
       "      <th>performance_id</th>\n",
       "    </tr>\n",
       "  </thead>\n",
       "  <tbody>\n",
       "    <tr>\n",
       "      <th>0</th>\n",
       "      <td>69c3af98393e9819ae537164c65d875c</td>\n",
       "      <td>bob</td>\n",
       "      <td>7a66e300e5e2304f18a6c4a4a7584c5a</td>\n",
       "    </tr>\n",
       "    <tr>\n",
       "      <th>1</th>\n",
       "      <td>3583edacee13bc2a0a9b21e3acbfb362</td>\n",
       "      <td>bob</td>\n",
       "      <td>7a66e300e5e2304f18a6c4a4a7584c5a</td>\n",
       "    </tr>\n",
       "  </tbody>\n",
       "</table>\n",
       "</div>"
      ],
      "text/plain": [
       "                          ticket_id user_name  \\\n",
       "0  69c3af98393e9819ae537164c65d875c       bob   \n",
       "1  3583edacee13bc2a0a9b21e3acbfb362       bob   \n",
       "\n",
       "                     performance_id  \n",
       "0  7a66e300e5e2304f18a6c4a4a7584c5a  \n",
       "1  7a66e300e5e2304f18a6c4a4a7584c5a  "
      ]
     },
     "execution_count": 14,
     "metadata": {},
     "output_type": "execute_result"
    }
   ],
   "source": [
    "%%sql\n",
    "select *\n",
    "from tickets"
   ]
  },
  {
   "cell_type": "code",
   "execution_count": 28,
   "id": "09b9f05f-5916-431e-b69b-c8807687f939",
   "metadata": {},
   "outputs": [
    {
     "data": {
      "text/html": [
       "<span style=\"None\">Running query in &#x27;sqlite:///movies.sqlite&#x27;</span>"
      ],
      "text/plain": [
       "Running query in 'sqlite:///movies.sqlite'"
      ]
     },
     "metadata": {},
     "output_type": "display_data"
    },
    {
     "data": {
      "text/html": [
       "<div>\n",
       "<style scoped>\n",
       "    .dataframe tbody tr th:only-of-type {\n",
       "        vertical-align: middle;\n",
       "    }\n",
       "\n",
       "    .dataframe tbody tr th {\n",
       "        vertical-align: top;\n",
       "    }\n",
       "\n",
       "    .dataframe thead th {\n",
       "        text-align: right;\n",
       "    }\n",
       "</style>\n",
       "<table border=\"1\" class=\"dataframe\">\n",
       "  <thead>\n",
       "    <tr style=\"text-align: right;\">\n",
       "      <th></th>\n",
       "      <th>performance_id</th>\n",
       "      <th>date</th>\n",
       "      <th>start_time</th>\n",
       "      <th>title</th>\n",
       "      <th>year</th>\n",
       "      <th>theater_name</th>\n",
       "      <th>remaining_seats</th>\n",
       "    </tr>\n",
       "  </thead>\n",
       "  <tbody>\n",
       "    <tr>\n",
       "      <th>0</th>\n",
       "      <td>5fa0059c1b18646d54cf4204d2ac6109</td>\n",
       "      <td>2021-02-22</td>\n",
       "      <td>19:00</td>\n",
       "      <td>TheDig</td>\n",
       "      <td>2021</td>\n",
       "      <td>Regal</td>\n",
       "      <td>14</td>\n",
       "    </tr>\n",
       "    <tr>\n",
       "      <th>1</th>\n",
       "      <td>fea61d39de2410b6d14a0481166ef26e</td>\n",
       "      <td>2021-02-22</td>\n",
       "      <td>21:00</td>\n",
       "      <td>TheDig</td>\n",
       "      <td>2021</td>\n",
       "      <td>Regal</td>\n",
       "      <td>16</td>\n",
       "    </tr>\n",
       "    <tr>\n",
       "      <th>2</th>\n",
       "      <td>7e6b684bcc6a056689e88b1d3ec6d9f7</td>\n",
       "      <td>2021-02-22</td>\n",
       "      <td>19:00</td>\n",
       "      <td>TheLittleThings</td>\n",
       "      <td>2021</td>\n",
       "      <td>Skandia</td>\n",
       "      <td>100</td>\n",
       "    </tr>\n",
       "  </tbody>\n",
       "</table>\n",
       "</div>"
      ],
      "text/plain": [
       "                     performance_id        date start_time            title  \\\n",
       "0  5fa0059c1b18646d54cf4204d2ac6109  2021-02-22      19:00           TheDig   \n",
       "1  fea61d39de2410b6d14a0481166ef26e  2021-02-22      21:00           TheDig   \n",
       "2  7e6b684bcc6a056689e88b1d3ec6d9f7  2021-02-22      19:00  TheLittleThings   \n",
       "\n",
       "   year theater_name  remaining_seats  \n",
       "0  2021        Regal               14  \n",
       "1  2021        Regal               16  \n",
       "2  2021      Skandia              100  "
      ]
     },
     "execution_count": 28,
     "metadata": {},
     "output_type": "execute_result"
    }
   ],
   "source": [
    "%%sql\n",
    "with taken_seats(performance_id, taken) as (\n",
    "    select performance_id, count() as taken\n",
    "    from performances\n",
    "            join theaters using(theater_name)\n",
    "            join tickets using(performance_id)\n",
    "    group by performance_id\n",
    ")\n",
    "select performance_id, date, start_time, title, year, theater_name, capacity - coalesce(taken, 0) as remaining_seats\n",
    "from performances\n",
    "        join theaters using(theater_name)\n",
    "        join movies using(imdb)\n",
    "     left outer join taken_seats using(performance_id)"
   ]
  },
  {
   "cell_type": "code",
   "execution_count": 22,
   "id": "1adf8922-d7f8-417f-be6f-8b711866b98e",
   "metadata": {},
   "outputs": [
    {
     "data": {
      "text/html": [
       "<span style=\"None\">Running query in &#x27;sqlite:///movies.sqlite&#x27;</span>"
      ],
      "text/plain": [
       "Running query in 'sqlite:///movies.sqlite'"
      ]
     },
     "metadata": {},
     "output_type": "display_data"
    },
    {
     "data": {
      "text/html": [
       "<div>\n",
       "<style scoped>\n",
       "    .dataframe tbody tr th:only-of-type {\n",
       "        vertical-align: middle;\n",
       "    }\n",
       "\n",
       "    .dataframe tbody tr th {\n",
       "        vertical-align: top;\n",
       "    }\n",
       "\n",
       "    .dataframe thead th {\n",
       "        text-align: right;\n",
       "    }\n",
       "</style>\n",
       "<table border=\"1\" class=\"dataframe\">\n",
       "  <thead>\n",
       "    <tr style=\"text-align: right;\">\n",
       "      <th></th>\n",
       "      <th>date</th>\n",
       "      <th>start_time</th>\n",
       "      <th>theater_name</th>\n",
       "      <th>title</th>\n",
       "      <th>year</th>\n",
       "      <th>nbrOfTickets</th>\n",
       "    </tr>\n",
       "  </thead>\n",
       "  <tbody>\n",
       "    <tr>\n",
       "      <th>0</th>\n",
       "      <td>2021-02-22</td>\n",
       "      <td>19:00</td>\n",
       "      <td>Regal</td>\n",
       "      <td>TheDig</td>\n",
       "      <td>2021</td>\n",
       "      <td>2</td>\n",
       "    </tr>\n",
       "    <tr>\n",
       "      <th>1</th>\n",
       "      <td>2021-02-22</td>\n",
       "      <td>19:00</td>\n",
       "      <td>Skandia</td>\n",
       "      <td>TheLittleThings</td>\n",
       "      <td>2021</td>\n",
       "      <td>1</td>\n",
       "    </tr>\n",
       "  </tbody>\n",
       "</table>\n",
       "</div>"
      ],
      "text/plain": [
       "         date start_time theater_name            title  year  nbrOfTickets\n",
       "0  2021-02-22      19:00        Regal           TheDig  2021             2\n",
       "1  2021-02-22      19:00      Skandia  TheLittleThings  2021             1"
      ]
     },
     "execution_count": 22,
     "metadata": {},
     "output_type": "execute_result"
    }
   ],
   "source": [
    "%%sql\n",
    "with user_tickets(performance_id, count) as (\n",
    "    select   performance_id, count() as count\n",
    "    from     tickets\n",
    "    where    user_name = 'bob'\n",
    "    group by performance_id\n",
    ")\n",
    "select date, start_time, theater_name, title, year, count as nbrOfTickets\n",
    "from   user_tickets\n",
    "        join performances using(performance_id)\n",
    "        join movies using(imdb)"
   ]
  },
  {
   "cell_type": "code",
   "execution_count": null,
   "id": "febc2df0-ef89-44ac-bb38-8b2f4f49fd19",
   "metadata": {},
   "outputs": [],
   "source": []
  }
 ],
 "metadata": {
  "kernelspec": {
   "display_name": "Python 3 (ipykernel)",
   "language": "python",
   "name": "python3"
  },
  "language_info": {
   "codemirror_mode": {
    "name": "ipython",
    "version": 3
   },
   "file_extension": ".py",
   "mimetype": "text/x-python",
   "name": "python",
   "nbconvert_exporter": "python",
   "pygments_lexer": "ipython3",
   "version": "3.11.6"
  }
 },
 "nbformat": 4,
 "nbformat_minor": 5
}
